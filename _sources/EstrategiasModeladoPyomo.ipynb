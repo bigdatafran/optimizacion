{
 "cells": [
  {
   "cell_type": "markdown",
   "metadata": {},
   "source": [
    "# Modelar componentes en Pyomo.\n",
    "\n",
    "Como vimos [en un apartado anterior](abstractConcrete), existen dos tipos básicos de modelos para definir en Pyomo, El modelo concreto y el abstracto. Con el primero se define el modelo que se quiere optimizar para unos valores de los parámetros concretos, mientras que con el segundo formato se declara de forma genérica el modelo y después se utiliza el mismo para los parámetros concretos sobre los cuales se quiere hacer la optimización. En este apartado se darán más detalles de cómo construir estos dos tipos de modelos.\n",
    "\n",
    "Pyomo soporta un diseño de programación orientada a objetos para la construcción de los modelos a optimizar. En este sentido son cuatro los pasos básicos a seguir para construir este modelo:\n",
    "\n",
    "1.- Crear el modelo y declarar las componentes.\n",
    "\n",
    "2.- Instanciar al modelo.\n",
    "\n",
    "3.- Aplicar el solver\n",
    "\n",
    "4.- Estudiar los resultados obtenidos.\n",
    "\n",
    "En la práctica estos son los cuatro pasos básicos que se deben ejecutar, con diferentes datos o diversas restricciones para entender mejor la naturaleza del problema con el que estamos trabajando.\n",
    "\n",
    "Un modelo Pyomo consiste en una serie de componentes del modelo ( *modeling components*) que definen diferentes aspectos del modelo que se quiere construir. Con Pyomo se pueden tener las diferentes *modeling components* que generalmente son soportadas por los modelos de tipo AMLs. En concreto las componentes del modelo que se pueden construir en Pyomo, están soportadas por las siguientes clases de tipo Python:\n",
    "\n",
    "* *Set*. Conjunto de datos utilizados para definir una instancia del modelo.\n",
    "\n",
    "* *Param*. Conjunto de parámetros que son utilizados para definir la instancia del modelo.\n",
    "\n",
    "* *Var*. Variables de decsión, que conformarán los resultados del modelo.\n",
    "\n",
    "* *Objetive*. Es la expresión matemática que hay que maximizar o minimizar.\n",
    "\n",
    "* *Constraint*. Son el conjunto de restricciones a tener en cuenta en la solución el problema.\n",
    "\n",
    "Pymo ofrece dos tipos de contextos para definir e inicializar las componentes del modelo: *ConcreteModel* y *AbstractModel*. Y así po ejemplo, para modelar componentes de un modelo abstracto, se utilizará la siguiente expresión:\n",
    "\n",
    "```python\n",
    "model = AbstractModel()\n",
    "model.I = Set()\n",
    "model.p = Param(model.I)\n",
    "```\n",
    "\n",
    "En este código, se obtiene un objeto denominado model que es una instancia de la clase AbstractModel, y model.I será un objeto de la clase Set, al igual que model.p es una instancia de clase Param. Pyomo también soporta los componentes indexados ( *indexed components* ), que son una colección de componentes que tienen como referencia un determinado índice, y que se verán con más detalle en apartados posteriores. En el ejemplo anterior, el parámetro p es un componente indexado que tiene como indice el elemento I.\n",
    "\n",
    "Para entender la construcción de los modelos ( tanto concreto como abstractos ) que se pueden crear con Pyom, nos basaremos en los modelos matemáticos que se definen a continuación.\n",
    "\n",
    "Para el modelo abstracto, se utilizará la siguiente expresión:\n",
    "\n",
    "$$ \\begin{array}{lll} \\min & \\sum_{j=1}^n c_j x_j & \\\\\n",
    "s.t. & \\sum_{j=1}^n a_ij x_j \\geq b_i & \\forall i = 1 \\ldots m\\\\\n",
    "& x_j \\geq 0 & \\forall j = 1 \\ldots n \\end{array} $$\n",
    "\n",
    "Mientras que para un modelo concreto, se usarán los datos concretos del modelo general anterior que se muestran a continuación: \n",
    "\n",
    "$$ \\begin{array}{lll} \\min & 4x_1 + 3x_2\\\\ \n",
    "s.t. & 3x_1 + 4x_2 \\geq 1\\\\\n",
    "& 2x_1 + 6x_2 \\geq 2 \\\\\n",
    "& x_1,x_2 \\geq 0 \\end{array} $$"
   ]
  },
  {
   "cell_type": "markdown",
   "metadata": {},
   "source": [
    "(tiposrestricciones)=\n",
    "## Tipos de parámetros o variables.\n",
    "\n",
    "En Pyomo se pueden utilizar los siguientes tipos de parámetros o variables, y que en apartados posteriores se verán cómo se pueden utilizar ( todos estos parámetros se pueden ver [en este enlace](https://pyomo.readthedocs.io/en/stable/pyomo_modeling_components/Sets.html#predefined-virtual-sets)).\n",
    "\n",
    "* *Any*. Para cualquier valor.\n",
    "\n",
    "* *Reals*. Valores de punto flotante.\n",
    "\n",
    "* *PositiveReals*. Valores de punto flotante estrictamente positivos.\n",
    "\n",
    "* *NonPositiveReals*. Valores de punto flotante no-positivos.\n",
    "\n",
    "* *NegativeReals*. Valores de punto flotante estrictamente negativos.\n",
    "\n",
    "* *NonNegativeReals*. Valores de punto flotante no-negativos.\n",
    "\n",
    "* *PercentFraction*. Valores de punto flotante dentro del intervalo [0,1].\n",
    "\n",
    "* *UnitInterval*. Es un alias para PercentFraction.\n",
    "\n",
    "* *Integers*. Valores enteros\n",
    "\n",
    "* *PositiveIntegers*. Enteros positivos.\n",
    "\n",
    "* *NonPositiveIntegers*. Enteros no-positivos.\n",
    "\n",
    "* *NegativeIntegers*. Valores enteros negativos.\n",
    "\n",
    "* *NonNegativeIntegers*. Valores enteros no negativos.\n",
    "\n",
    "* *Boolean*. Valores booleanos, pueden estar representados por False/True, 0/1, 'False'/'True' y 'F'/'T'.\n",
    "\n",
    "* *Binary*. Los números enteros $\\{0,1\\}$"
   ]
  },
  {
   "cell_type": "markdown",
   "metadata": {},
   "source": [
    "## Modelos concretos en Pyomo.\n",
    " \n",
    " Esta es la opción más rápida par construir un modelo con unos parámetros concretos, pero que servirá para resolver ese modelo en concreto, si se quiere generalizar el modelo y que sirva para un conjunto de parámetros diferentes, se tendrá que utilizar un modelo abstracto que se desarrollará posteriormente.\n",
    "\n",
    "Para definir un modelo concreto, se tendrá que utilizar la clase denominada ConcreteModel(), de la siguiente manera:\n",
    "\n",
    "```python\n",
    "model = ConcreteModel()\n",
    "```\n",
    "\n",
    "A diferencia de lo que ocurre con un modelo abstracto, en estos modelos de tipo concreto, los modelos de componentes dentro del modelo son inmediatamente inicializadas y son añadidas a la isntancia del modelo.\n",
    "\n",
    "Las variables de decisión para este ejemplo concreto se declarán de la siguiente manera:\n",
    "\n",
    "```python\n",
    "model.x_1 = Var(within=NonNegativeReals)\n",
    "model.x_2 = Var(within=NonNegativeReals)\n",
    "```\n",
    "\n",
    "El argumento *within* se utiliza para definir el rango de valores que soporta la variable. Los valores que se pueden usar para este argumento, se pueden ver en [este apartado anterior](tiposrestricciones).\n",
    "\n",
    "Otro apartado imprescindible a la hora de construir los modelos en Pyomo es la *función objetivo*. Para hacer esto, se debe construir una expresión algebraica compuesta de constantes numéricas y variables que siguen a la palabra clave *expr*. Para el ejemplo anterior, se utilizará la siguiente expresión:\n",
    "\n",
    "```python\n",
    "model.obj = Objective(expr=4*model.x_1 + 3*model.x_2)\n",
    "```\n",
    "\n",
    "Igualmente se necesitan definir las restricciones del modelo lineal, que para el ejemplo que se sigue, serían de la siguiente manera:\n",
    "\n",
    "```python\n",
    "model.con1 = Constraint(expr=3*model.x_1 + 4*model.x_2 >= 1)\n",
    "model.con2 = Constraint(expr=2*model.x_1 + 6*model.x_2 >= 2)\n",
    "````\n",
    "\n",
    "Uniendo todas estas expresiones, el modelo concreto que debería definirse para este caso, sería el siguiente:"
   ]
  },
  {
   "cell_type": "code",
   "execution_count": 1,
   "metadata": {},
   "outputs": [],
   "source": [
    "from pyomo.environ import *\n",
    "\n",
    "model = ConcreteModel()\n",
    "model.x_1 = Var(within=NonNegativeReals)\n",
    "model.x_2 = Var(within=NonNegativeReals)\n",
    "model.obj = Objective(expr=4*model.x_1 + 3*model.x_2)\n",
    "model.con1 = Constraint(expr=3*model.x_1 + 4*model.x_2 >= 1)\n",
    "model.con2 = Constraint(expr=2*model.x_1 + 6*model.x_2 >= 2)"
   ]
  },
  {
   "cell_type": "markdown",
   "metadata": {},
   "source": [
    "### Variables y parámetros indexados.\n",
    "\n",
    "El modelo anterior queda muy bien construido de la forma que lo hemos hecho en el anterior apartado, pero tiene el inconveniente de que es muy difícil de construir y mantener, en el caso de que se disponga de muchas variables. Para salvar esta dificultada, Pymo tiene previsto la utilización de variables y parámetros de tipo indexado, y su utilización y uso se pasa a explicar a continuación.\n",
    "\n",
    "Por ejemplo para el caso anterior, si se utilizan variables indexadas, se utilizará una construcción similar a la siguiente:\n",
    "\n",
    "```python\n",
    "model.x = Var([1,2], within=NonNegativeReals)\n",
    "```\n",
    "Los índices de las variables, se podrían utilizar para construir tanto para construir la función objetivo como las restricciones, de la siguiente manera.\n",
    "\n",
    "```python\n",
    "model.obj = Objective(expr=4*model.x[1] + 3*model.x[2])\n",
    "model.con1 = Constraint(expr=3*model.x[1] + 4*model.x[2]>=1)\n",
    "model.con2 = Constraint(expr=2*model.x[1] + 6*model.x[2]>=2)\n",
    "```\n",
    "\n",
    "El modelo conjunto con este tipo de planteamiento sería el siguiente:"
   ]
  },
  {
   "cell_type": "code",
   "execution_count": 2,
   "metadata": {},
   "outputs": [],
   "source": [
    "from pyomo.environ import *\n",
    "\n",
    "model = ConcreteModel()\n",
    "model.x = Var([1,2], within=NonNegativeReals)\n",
    "model.obj = Objective(expr=4*model.x[1] + 3*model.x[2])\n",
    "model.con1 = Constraint(expr=3*model.x[1] + 4*model.x[2]>=1)\n",
    "model.con2 = Constraint(expr=2*model.x[1] + 6*model.x[2]>=2)"
   ]
  },
  {
   "cell_type": "markdown",
   "metadata": {},
   "source": [
    "### Aportación de datos de forma externa.\n",
    "\n",
    "Como puede verse con el anterior modelo, se mejora el indicado en primer lugar, sin embargo adolece de un impportante problema: que los datos están inscrustados en la definición del modelo. Para solucionar esto, existe la posibilidad de definir por un lado los datos de forma independiente,  después usar estos para definir el modelo. Con esto se gana en claridad en el código y permite un mejor mantenimiento del mismo.\n",
    "\n",
    "Para conseguir esto, se pueden definir los datos a utilizar de forma independiente de la la siguiente manera (observar el uso muy extendido en este tipo de problemas de los diccionarios):\n",
    "\n",
    "```python\n",
    "N = [1,2]\n",
    "c = {1:4, 2:3}\n",
    "a = {(1,1):3, (2,1):4, (1,2):2, (2,2):6}\n",
    "b = {1:1, 2:2}\n",
    "```\n",
    "\n",
    "Entonces utilizando estos datos, la función objetivo se puede definir de la siguiente manera:\n",
    "\n",
    "```python\n",
    "model.obj = Objective(expr=c[1]*model.x[1] + c[2]*model.x[2])\n",
    "```\n",
    "expresión anterior que es perfectamente válida pero que adole de un serio inconveniente: cuando ay muchos variables y parámetros, se hace inmanejable a medida que dichos parámetros y variables se incrementan. Para resolver esto, se puede utilizar la función *sum* de la siguiente manera:\n",
    "\n",
    "```python\n",
    "model.obj = Objective(expr=sum(c[i]*model.x[i] for i in N))\n",
    "```\n",
    "De forma similar a la anterior, se plantearían las restricciones, por lo que el modelo que nos quedará en esta caso sería el siguiente:\n"
   ]
  },
  {
   "cell_type": "code",
   "execution_count": 3,
   "metadata": {},
   "outputs": [],
   "source": [
    "from pyomo.environ import *\n",
    "# defino los valores\n",
    "N = [1,2]\n",
    "c = {1:4, 2:3}\n",
    "a = {(1,1):3, (2,1):4, (1,2):2, (2,2):6}\n",
    "b = {1:1, 2:2}\n",
    "#defino el modelo\n",
    "model = ConcreteModel()\n",
    "model.x = Var(N, within=NonNegativeReals)\n",
    "model.obj = Objective(expr=sum(c[i]*model.x[i] for i in N))\n",
    "model.con1 = Constraint(expr=sum(a[i,1]*model.x[i] for i in N) >= b[1])\n",
    "model.con2 = Constraint(expr=sum(a[i,2]*model.x[i] for i in N) >= b[2])"
   ]
  },
  {
   "cell_type": "markdown",
   "metadata": {},
   "source": [
    "### Modelo con definición restricciones de tipo *Rules*\n",
    "\n",
    "Aún se puede mejorar la construcción de los modelos en Pymo, utilizando lo que en términos anglosajones de denominan *rules*. En concreto, utilizando estas herramientas, el modelo anterior se puede construir de la siguiente manera:"
   ]
  },
  {
   "cell_type": "code",
   "execution_count": 4,
   "metadata": {},
   "outputs": [],
   "source": [
    "from pyomo.environ import *\n",
    "\n",
    "N = [1,2]\n",
    "M = [1,2]\n",
    "c = {1:4, 2:3}\n",
    "a = {(1,1):3, (2,1):4, (1,2):2, (2,2):6}\n",
    "b = {1:1, 2:2}\n",
    "\n",
    "model = ConcreteModel()\n",
    "model.x = Var(N, within=NonNegativeReals)\n",
    "model.obj = Objective(expr=sum(c[i]*model.x[i] for i in N))\n",
    "def con_rule(model, m): #definimos la rule\n",
    "    return sum(a[i,m]*model.x[i] for i in N) >= b[m]\n",
    "#Ahora utilizamos esa rule\n",
    "model.con = Constraint(M, rule=con_rule)"
   ]
  },
  {
   "cell_type": "markdown",
   "metadata": {},
   "source": [
    "Se puede generalizar el uso de rules, para construir los modelos den Pyomo, como se puede ver en el siguiente ejemplo:"
   ]
  },
  {
   "cell_type": "code",
   "execution_count": 6,
   "metadata": {},
   "outputs": [],
   "source": [
    "from pyomo.environ import *\n",
    "\n",
    "model = ConcreteModel()\n",
    "\n",
    "N = [1,2]\n",
    "\n",
    "model.N = Set(initialize= N)\n",
    "model.M = Set(initialize=[1,2])\n",
    "\n",
    "model.c = Param(model.N, initialize={1:4, 2:3})\n",
    "model.a = Param(model.N, model.M,initialize={(1,1):3, (2,1):4, (1,2):2, (2,2):6})\n",
    "model.b = Param(model.M, initialize={1:1, 2:2})\n",
    "model.x = Var(model.N, within=NonNegativeReals)\n",
    "def obj_rule(model):\n",
    "    return sum(model.c[i]*model.x[i] for i in model.N)\n",
    "model.obj = Objective(rule=obj_rule)\n",
    "def con_rule(model, m):\n",
    "    return sum(model.a[i,m]*model.x[i] for i in model.N) \\\n",
    "    >= model.b[m]\n",
    "model.con = Constraint(model.M, rule=con_rule)"
   ]
  },
  {
   "cell_type": "markdown",
   "metadata": {},
   "source": [
    "###  Usando una función para construir el modelo.\n",
    "\n",
    "Una baza importante a jugar con Python y poder usar con mayor agilidad las ventajas que ofrece Pyomo es poder utilizar las funciones de Python, para poder ser utilizadas de forma flexible en el código. A continuación se muestra un ejemplo de un posible uso, para el ejemplo sobre el que estamos trabajando.\n"
   ]
  },
  {
   "cell_type": "code",
   "execution_count": 8,
   "metadata": {},
   "outputs": [],
   "source": [
    "from pyomo.environ import *\n",
    "\n",
    "def create_model(N=[], M=[], c={}, a={}, b={}):\n",
    "    model = ConcreteModel()\n",
    "    model.x = Var(N, within=NonNegativeReals)\n",
    "    model.obj = Objective(expr=sum(c[i]*model.x[i] for i in N))\n",
    "    def con_rule(model, m):\n",
    "        return sum(a[i,m]*model.x[i] for i in N) >= b[m]\n",
    "    model.con = Constraint(M, rule=con_rule)\n",
    "    return model\n",
    "\n",
    "model = create_model(N = [1,2], M = [1,2], c = {1:4, 2:3},\n",
    "    a = {(1,1):3, (2,1):4, (1,2):2, (2,2):6},\n",
    "    b = {1:1, 2:2})"
   ]
  },
  {
   "cell_type": "markdown",
   "metadata": {},
   "source": [
    "### Resolución de modelos concretos.\n",
    "\n",
    "Para resolver este tipo de modelos, existen dos posibilidades. Una es mediante la inclusión de código dentro del mismo entorno que donde está definido el modelo, como se muestra en el ejemplo que sigue."
   ]
  },
  {
   "cell_type": "code",
   "execution_count": 3,
   "metadata": {},
   "outputs": [
    {
     "name": "stdout",
     "output_type": "stream",
     "text": [
      "1 Set Declarations\n",
      "    x_index : Size=1, Index=None, Ordered=Insertion\n",
      "        Key  : Dimen : Domain : Size : Members\n",
      "        None :     1 :    Any :    2 : {1, 2}\n",
      "\n",
      "1 Var Declarations\n",
      "    x : Size=2, Index=x_index\n",
      "        Key : Lower : Value : Upper : Fixed : Stale : Domain\n",
      "          1 :     0 :  None :  None : False :  True : NonNegativeReals\n",
      "          2 :     0 :  None :  None : False :  True : NonNegativeReals\n",
      "\n",
      "1 Objective Declarations\n",
      "    obj : Size=1, Index=None, Active=True\n",
      "        Key  : Active : Sense    : Expression\n",
      "        None :   True : minimize : 4*x[1] + 3*x[2]\n",
      "\n",
      "2 Constraint Declarations\n",
      "    con1 : Size=1, Index=None, Active=True\n",
      "        Key  : Lower : Body            : Upper : Active\n",
      "        None :   1.0 : 3*x[1] + 4*x[2] :  +Inf :   True\n",
      "    con2 : Size=1, Index=None, Active=True\n",
      "        Key  : Lower : Body            : Upper : Active\n",
      "        None :   2.0 : 2*x[1] + 6*x[2] :  +Inf :   True\n",
      "\n",
      "5 Declarations: x_index x obj con1 con2\n"
     ]
    },
    {
     "data": {
      "text/plain": [
       "{'Problem': [{'Name': 'unknown', 'Lower bound': 1.0, 'Upper bound': 1.0, 'Number of objectives': 1, 'Number of constraints': 3, 'Number of variables': 3, 'Number of nonzeros': 5, 'Sense': 'minimize'}], 'Solver': [{'Status': 'ok', 'Termination condition': 'optimal', 'Statistics': {'Branch and bound': {'Number of bounded subproblems': 0, 'Number of created subproblems': 0}}, 'Error rc': 0, 'Time': 0.05269813537597656}], 'Solution': [OrderedDict([('number of solutions', 0), ('number of solutions displayed', 0)])]}"
      ]
     },
     "execution_count": 3,
     "metadata": {},
     "output_type": "execute_result"
    }
   ],
   "source": [
    "from pyomo.environ import *\n",
    "\n",
    "model = ConcreteModel()\n",
    "model.x = Var([1,2], within=NonNegativeReals)\n",
    "model.obj = Objective(expr=4*model.x[1] + 3*model.x[2])\n",
    "model.con1 = Constraint(expr=3*model.x[1] + 4*model.x[2]>=1)\n",
    "model.con2 = Constraint(expr=2*model.x[1] + 6*model.x[2]>=2)\n",
    "\n",
    "model.pprint()\n",
    "\n",
    "opt = SolverFactory('glpk')\n",
    "opt.solve(model) "
   ]
  },
  {
   "cell_type": "markdown",
   "metadata": {},
   "source": [
    "Otra forma e mediante la línea de comandos, utilizando el comando *pyomo solve my_model.py --solver='glpk'*. A continuación, se muestra cómo hacer eso con nuestro ejemplo. Tener en cuenta que al estar trabajando sobre jupyter notebook para escribir todo esto, se utiliza el comando *%%writefile codigos/model2.py* para guardar el código, como si fuera un fichero python, y posteriormente se ejecuta su código con la instrucción *!pyomo solve codigos/model2.py --solver=glpk*.\n"
   ]
  },
  {
   "cell_type": "code",
   "execution_count": 4,
   "metadata": {},
   "outputs": [
    {
     "name": "stdout",
     "output_type": "stream",
     "text": [
      "Writing codigos/model2.py\n"
     ]
    }
   ],
   "source": [
    "%%writefile codigos/model2.py\n",
    "from pyomo.environ import *\n",
    "\n",
    "model = ConcreteModel()\n",
    "model.x = Var([1,2], within=NonNegativeReals)\n",
    "model.obj = Objective(expr=4*model.x[1] + 3*model.x[2])\n",
    "model.con1 = Constraint(expr=3*model.x[1] + 4*model.x[2]>=1)\n",
    "model.con2 = Constraint(expr=2*model.x[1] + 6*model.x[2]>=2)"
   ]
  },
  {
   "cell_type": "code",
   "execution_count": 5,
   "metadata": {},
   "outputs": [
    {
     "name": "stdout",
     "output_type": "stream",
     "text": [
      "[    0.00] Setting up Pyomo environment\n",
      "[    0.00] Applying Pyomo preprocessing actions\n",
      "[    0.02] Creating model\n",
      "[    0.02] Applying solver\n",
      "[    0.08] Processing results\n",
      "    Number of solutions: 1\n",
      "    Solution Information\n",
      "      Gap: 0.0\n",
      "      Status: feasible\n",
      "      Function Value: 0.9999999999999989\n",
      "    Solver results file: results.json\n",
      "[    0.08] Applying Pyomo postprocessing actions\n",
      "[    0.08] Pyomo Finished\n"
     ]
    }
   ],
   "source": [
    "!pyomo solve codigos/model2.py --solver=glpk"
   ]
  },
  {
   "cell_type": "markdown",
   "metadata": {},
   "source": [
    "## Modelos abstractos en Pyomo.\n",
    "\n",
    "Una vez vistas las diferentes modalidades de modelos concretos ya presentadas en los apartado anteriores, el modelo de tipo abstracto para trabajar con Pyomo es fácil de definir, en concreto el ejemplo ya mostrado anteriormente se definiría de la siguiente manera:"
   ]
  },
  {
   "cell_type": "code",
   "execution_count": 2,
   "metadata": {},
   "outputs": [],
   "source": [
    "from pyomo.environ import *\n",
    "\n",
    "model = AbstractModel() \n",
    "\n",
    "model.N = Set()\n",
    "model.M = Set() \n",
    "\n",
    "model.c = Param(model.N)\n",
    "model.a = Param(model.N, model.M)\n",
    "model.b = Param(model.M)\n",
    "\n",
    "model.x = Var(model.N, within=NonNegativeReals)\n",
    "def obj_rule(model):\n",
    "    return sum(model.c[i]*model.x[i] for i in model.N)\n",
    "model.obj = Objective(rule=obj_rule)\n",
    "\n",
    "def con_rule(model, m):\n",
    "    return sum(model.a[i,m]*model.x[i] for i in model.N) \\\n",
    "        >= model.b[m]\n",
    "model.con = Constraint(model.M, rule=con_rule)"
   ]
  },
  {
   "cell_type": "markdown",
   "metadata": {},
   "source": [
    "Ahora el modelo abstracto necesita alimentarse de una serie de datos, los cuales deben ser suministrados mediante un fichero que tiene el siguiente formato (llamaremos al fichero datos.dat):\n",
    "````python\n",
    "set N := 1 2 ;\n",
    "set M := 1 2 ;\n",
    "param c :=\n",
    "1 4\n",
    "2 3 ;\n",
    "param a :=\n",
    "1 1 3\n",
    "2 1 4\n",
    "1 2 2\n",
    "2 2 6 ;\n",
    "param b :=\n",
    "1 1\n",
    "2 2 ;\n",
    "```"
   ]
  },
  {
   "cell_type": "markdown",
   "metadata": {},
   "source": [
    "Ahora para resolverlo desde las instrucciones del propio programa habría que crear una instancia, a la que se le indica además el fichero de datos con el que debe trabajar, y después la ejecución sería similar al la del modelo concreto ya expuesto en apartados posteriores. En concreto, las instrucciones serían las siguientes:"
   ]
  },
  {
   "cell_type": "code",
   "execution_count": 11,
   "metadata": {},
   "outputs": [
    {
     "name": "stdout",
     "output_type": "stream",
     "text": [
      "3 Set Declarations\n",
      "    M : Size=0, Index=None, Ordered=Insertion\n",
      "        Not constructed\n",
      "    N : Size=0, Index=None, Ordered=Insertion\n",
      "        Not constructed\n",
      "    a_index : Size=0, Index=None, Ordered=True\n",
      "        Not constructed\n",
      "\n",
      "3 Param Declarations\n",
      "    a : Size=0, Index=a_index, Domain=Any, Default=None, Mutable=False\n",
      "        Not constructed\n",
      "    b : Size=0, Index=M, Domain=Any, Default=None, Mutable=False\n",
      "        Not constructed\n",
      "    c : Size=0, Index=N, Domain=Any, Default=None, Mutable=False\n",
      "        Not constructed\n",
      "\n",
      "1 Var Declarations\n",
      "    x : Size=0, Index=N\n",
      "        Not constructed\n",
      "\n",
      "1 Objective Declarations\n",
      "    obj : Size=0, Index=None, Active=True\n",
      "        Not constructed\n",
      "\n",
      "1 Constraint Declarations\n",
      "    con : Size=0, Index=M, Active=True\n",
      "        Not constructed\n",
      "\n",
      "9 Declarations: N M c a_index a b x obj con\n",
      "__________________________________________________\n"
     ]
    },
    {
     "data": {
      "text/plain": [
       "{'Problem': [{'Name': 'unknown', 'Lower bound': 1.0, 'Upper bound': 1.0, 'Number of objectives': 1, 'Number of constraints': 3, 'Number of variables': 3, 'Number of nonzeros': 5, 'Sense': 'minimize'}], 'Solver': [{'Status': 'ok', 'Termination condition': 'optimal', 'Statistics': {'Branch and bound': {'Number of bounded subproblems': 0, 'Number of created subproblems': 0}}, 'Error rc': 0, 'Time': 0.052341461181640625}], 'Solution': [OrderedDict([('number of solutions', 0), ('number of solutions displayed', 0)])]}"
      ]
     },
     "execution_count": 11,
     "metadata": {},
     "output_type": "execute_result"
    }
   ],
   "source": [
    "model.pprint()\n",
    "\n",
    "instance = model.create_instance('dat/datos.dat')\n",
    "\n",
    "\n",
    "print(\"______________________________________________________________\")\n",
    "opt = SolverFactory('glpk')\n",
    "opt.solve(instance) "
   ]
  },
  {
   "cell_type": "markdown",
   "metadata": {},
   "source": [
    "Si la ejecución es desde la línea de comandos, primero creariamos un fichero con extensión .py "
   ]
  },
  {
   "cell_type": "code",
   "execution_count": 8,
   "metadata": {},
   "outputs": [
    {
     "name": "stdout",
     "output_type": "stream",
     "text": [
      "Writing codigos/model3.py\n"
     ]
    }
   ],
   "source": [
    "%%writefile codigos/model3.py\n",
    "from pyomo.environ import *\n",
    "\n",
    "model = AbstractModel() \n",
    "\n",
    "model.N = Set()\n",
    "model.M = Set() \n",
    "\n",
    "model.c = Param(model.N)\n",
    "model.a = Param(model.N, model.M)\n",
    "model.b = Param(model.M)\n",
    "\n",
    "model.x = Var(model.N, within=NonNegativeReals)\n",
    "def obj_rule(model):\n",
    "    return sum(model.c[i]*model.x[i] for i in model.N)\n",
    "model.obj = Objective(rule=obj_rule)\n",
    "\n",
    "def con_rule(model, m):\n",
    "    return sum(model.a[i,m]*model.x[i] for i in model.N) \\\n",
    "        >= model.b[m]\n",
    "model.con = Constraint(model.M, rule=con_rule)"
   ]
  },
  {
   "cell_type": "markdown",
   "metadata": {},
   "source": [
    "Y después lo ejecutamos desde la linea de comandos con la siguiente instrucción:"
   ]
  },
  {
   "cell_type": "code",
   "execution_count": 9,
   "metadata": {},
   "outputs": [
    {
     "name": "stdout",
     "output_type": "stream",
     "text": [
      "[    0.00] Setting up Pyomo environment\n",
      "[    0.00] Applying Pyomo preprocessing actions\n",
      "[    0.00] Creating model\n",
      "[    0.03] Applying solver\n",
      "[    0.13] Processing results\n",
      "    Number of solutions: 1\n",
      "    Solution Information\n",
      "      Gap: 0.0\n",
      "      Status: feasible\n",
      "      Function Value: 0.9999999999999989\n",
      "    Solver results file: results.json\n",
      "[    0.14] Applying Pyomo postprocessing actions\n",
      "[    0.14] Pyomo Finished\n"
     ]
    }
   ],
   "source": [
    "!pyomo solve codigos/model3.py dat/datos.dat --solver=glpk"
   ]
  },
  {
   "cell_type": "code",
   "execution_count": null,
   "metadata": {},
   "outputs": [],
   "source": []
  }
 ],
 "metadata": {
  "kernelspec": {
   "display_name": "Python 3",
   "language": "python",
   "name": "python3"
  },
  "language_info": {
   "codemirror_mode": {
    "name": "ipython",
    "version": 3
   },
   "file_extension": ".py",
   "mimetype": "text/x-python",
   "name": "python",
   "nbconvert_exporter": "python",
   "pygments_lexer": "ipython3",
   "version": "3.7.6"
  },
  "toc": {
   "base_numbering": 1,
   "nav_menu": {},
   "number_sections": true,
   "sideBar": true,
   "skip_h1_title": false,
   "title_cell": "Table of Contents",
   "title_sidebar": "Contents",
   "toc_cell": false,
   "toc_position": {},
   "toc_section_display": true,
   "toc_window_display": false
  },
  "varInspector": {
   "cols": {
    "lenName": 16,
    "lenType": 16,
    "lenVar": 40
   },
   "kernels_config": {
    "python": {
     "delete_cmd_postfix": "",
     "delete_cmd_prefix": "del ",
     "library": "var_list.py",
     "varRefreshCmd": "print(var_dic_list())"
    },
    "r": {
     "delete_cmd_postfix": ") ",
     "delete_cmd_prefix": "rm(",
     "library": "var_list.r",
     "varRefreshCmd": "cat(var_dic_list()) "
    }
   },
   "types_to_exclude": [
    "module",
    "function",
    "builtin_function_or_method",
    "instance",
    "_Feature"
   ],
   "window_display": false
  }
 },
 "nbformat": 4,
 "nbformat_minor": 4
}
