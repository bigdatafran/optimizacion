{
 "cells": [
  {
   "cell_type": "markdown",
   "metadata": {},
   "source": [
    "# Introducción.\n",
    "\n",
    "Este es el primer capítulo nos centraremos en la utilización de [OR-Tools](https://developers.google.com/optimization/introduction/overview), como herramienta libre y gratuita para resolver problemas de programación lineal de una forma libre y gratuita, con la base de programación de python. De entre  los muchos ámbitos de trabajo a los que se les puede aplicar este tipo de programación lineal, se pueden destacar el siguiente conjunto de problemas:\n",
    "\n",
    "* Ruta óptima de vehículos. Gracias a estas aplicaciones, se pude encontrar la ruta óptima que debe ser utilizada, para que un conjunto de vehículos visiten diferentes puntos geográficos de manera que la distancia recorrida sea mínima.\n",
    "\n",
    "* Programación de tareas o trabajos a realizar.  Encontrar la solución óptima para un conjunto complejo de tareas, algunas de las cuales deben realizarse antes que otras, en un conjunto fijo de máquinas, u otros recursos.\n",
    "\n",
    "* Embalaje de contenedores. Empaquetar tantos objetos de distintos tamaños como sea posible en un número fijo de contenedores con capacidades máximas.\n",
    "\n",
    "* Resolver problema de la dieta.  fue uno de los primeros problemas sobre optimización, motivado por el deseo del ejercito americano de asegurar unos requerimientos nutricionales al menor coste. El problema fue analizado y resuelto por *George Stigler* usando la programación lineal en 1947.\n",
    "\n",
    "En la mayoría de los casos, los problemas de este tipo tienen un gran número de posibles soluciones, de tal manera que demasiadas para que un ordenador pueda buscarlas todas en un tiempo aceptable. Para superar esto, OR-Tools utiliza *algoritmos de última generación* para reducir el conjunto de búsqueda, con el fin de encontrar una solución óptima (*o cercana a la óptima*). Hay que tener esta última expresión muy en cuenta, pues con OR_Tools, no siempre se encuentra la solución que desde un punto de vista estrictamente matemático sea la óptima, pero sí una solución muy cercana a ella.\n",
    "\n",
    "Con OR-Tools se pueden encontrar *solvers* para las siguientes cuestiones:\n",
    "\n",
    "* Programación lineal y entera. En este caso el optimizador lineal denominado Glop, es capaz de encontrar soluciones optimas para problemas de programación lineal o entera. La definición de este tipo de problemas se hará en apartados posteriores.\n",
    "\n",
    "\n",
    "(******************Seguir en un futuro ampliando este apartado)\n",
    "\n",
    "Para poder trabajar con el optimizador OR_Tools lo primero que hay que hacer es instalarlo en la versión de Python  con la que se tabaje, y para hacer esto se puede utilizar el programa pip de Python que como a es sabido es una forma fácil y cómo de poder instalar paquetes en este lenguaje de programación, en concreto simplemente se tendrá que ejecutar lo siguiente en la línea de comandos:\n",
    "\n",
    "*python -m pip install --upgrade --user ortools*\n",
    "\n",
    "Para más información sobre cómo instalar este paquete se puede [visitar este enlace](https://developers.google.com/optimization/install), donde el lector interesado podrá encontrar más información sobre este tema."
   ]
  },
  {
   "cell_type": "markdown",
   "metadata": {},
   "source": [
    "# Problemas de optimización lineal.\n",
    "\n",
    "Se denomina *problema de optimización lineal* aquel en el que se pretende encontrar una solución óptima a un problema planteado mediante ecuaciones de tipo lineal, tanto en lo que se refiere a la función que se quiere optimizar como para las restricciones impuestas al problema. Para los lectores interesados en esta materia, se le puede dar como referencia el contenido que existe en el libro [Mosk modeling cookbok](https://docs.mosek.com/modeling-cookbook/index.html).  \n",
    "\n",
    "Como ejemplo práctico de problema de programación lineal, se puede presentar el definido en la siguiente ecuación.\n",
    "\n",
    "\n",
    "$$\n",
    "\\begin{align*}\n",
    "max\\quad3x+y\\\\\n",
    "s.t.\\\\\n",
    "0\\leq x\\leq1\\\\\n",
    "0\\leq y\\leq2\\\\\n",
    "x+y\\leq2\n",
    "\\end{align*}\n",
    "$$ \n",
    "\n",
    "En el problema anterior, como puede verse, tanto la función que se quiere optimizar, como las restricciones son de tipo lineal. \n",
    "\n",
    "Para resolver este tipo de problemas, Google ofrece dos tipos de herramientas :\n",
    "\n",
    "1.- **Glop**. Es el optimizador lineal interno de Google, disponible como código abierto. Puedes acceder a Glop a través de la envoltura del solucionador lineal OR-Tools, que es una envoltura para Glop, así como para otros solucionadores de optimización lineal de terceros. Mas adelante, se pondrán ejemplos para que el lector aprenda a utilizar este optmizador.\n",
    "\n",
    "2.- **El [The Linear Optimization Service in Google Apps Script](https://developers.google.com/apps-script/reference/optimization)**, permite a los desarrolladores realizar llamadas a funciones para resolver problemas de optimización lineal. Se basa en Glop para los problemas de optimización lineal puros en los que todas las variables pueden tomar valores reales. Si alguna de las variables está restringida a los números enteros, el servicio utiliza SCIP, del Zuse-Institut de Berlín.\n",
    "\n",
    "## Elementos básicos de un problema de optimización.\n",
    "\n",
    "El objetivo fundamental de un problema de  optimización es encontrar la mejor solución a un problema entre un gran conjunto de soluciones posibles. (A veces, y sobre todo cuando un problema es muy complejo, el investigador se puede conformar  con encontrar cualquier solución factible; OR-Tools puede hacer eso también).\n",
    "\n",
    "Un problema típico de optimización, se puede encontrar dentro del siguiente enunciado. Supongamos que una empresa de transporte entrega paquetes a sus clientes utilizando una flota de camiones. Cada día, la empresa debe asignar paquetes a los camiones, y luego elegir una ruta para que cada camión entregue sus paquetes. Cada posible asignación de paquetes y rutas tiene un coste, basado en la distancia total de viaje de los camiones, y posiblemente también en otros factores. El problema es elegir la asignación de paquetes y rutas que tenga el menor coste.\n",
    "\n",
    "Cuando se trabaja con un problema de optimización, se deben distinguir dos elementos básicos:\n",
    "\n",
    "1.- **La función objetivo**.Representa cantidad que se quiere optimizar. En el ejemplo anterior, el objetivo es minimizar el coste. Para plantear un problema de optimización, hay que definir una función que calcule el valor del objetivo para cualquier solución posible. Esto se llama la función objetivo. En el ejemplo anterior, la función objetivo calcularía el coste total de cualquier asignación de paquetes y rutas.\n",
    "\n",
    "Una *solución óptima* es aquella para la que el valor de la función objetivo es el mejor. (\"Mejor\" puede ser un máximo o un mínimo).\n",
    "\n",
    "\n",
    "2.- **Las restricciones**. Son el conjunto de soluciones posibles, basadas en los requisitos específicos del problema. Por ejemplo, si la empresa de transporte no puede asignar a los camiones paquetes por encima de un peso determinado, esto impondría una restricción a las soluciones. Una **solución factible** es aquella que satisface todas las restricciones dadas para el problema, sin ser necesariamente óptima.\n",
    "\n",
    "Los pasos que deberán darse para resolver un problema de programación lineal son los siguientes:\n",
    "\n",
    "1.- Importar las librerías necesarias.\n",
    "\n",
    "2.- Declarar el solver.\n",
    "\n",
    "3.- Crear las variables.\n",
    "\n",
    "4.- Definir las restricciones.\n",
    "\n",
    "5.- Definir la función objetivo.\n",
    "\n",
    "6.- Ejecutar el solver y mostrar los resultados.\n",
    "\n",
    "La materialización de cómo se implementan estos pasos con OR-Tools, se muestra en los siguientes ejemplos."
   ]
  },
  {
   "cell_type": "markdown",
   "metadata": {},
   "source": [
    "## El optimizador lineal Glop.\n",
    "\n",
    "Como ya se ha indicado anteriormente, el optimizador lineal Glop de google permite dar solución a los problemas de optimización lineal,  a él se va a dedicar el presente apartado.\n",
    "\n",
    "Entre las ventajas que ofrece está herramienta está en que se puede considerar que es rápido, eficiente en cuanto a memoria y numéricamente estable. A continuación vamos a mostrar cómo utilizar Glop para resolver un problema lineal sencillo . El sencillo problema que se pretende resolver es el que se ha mostrado unas lineas más arriba."
   ]
  },
  {
   "cell_type": "markdown",
   "metadata": {},
   "source": [
    "Para entender mejor el significado de este tipo de problemas, y dado que el problema que se pretende resolver ofrece la sencillez suficiente para comprender el significado de lo que vamos buscando, en primer lugar vamos a encontrar la solución mediante un sencillo método gráfico.\n",
    "\n",
    "Paara ello hacemos uso de la calculadora gráfica que [nos ofrece geogebra](https://www.geogebra.org/calculator), que es una herramienta gratuita disponible en Internet y por lo tanto al alcance de cualquiera. La solución que obtenemos para este ejemplo, la vemos en el siguiente gráfico.\n",
    "\n",
    "![Ejemplo 1](fig/fig1.PNG)\n",
    "\n",
    "Como puede verse, de forma rápida se puede ver que la solución se encuentra en el punto x = 1 , y = 1.\n",
    "\n",
    "Veamos a continuación cómo poder obtener el resultado utilizando el optimizador lineal GLOP. En primer lugar lo que se debe hacer es importar la librería necesaria para poder construir todo esto."
   ]
  },
  {
   "cell_type": "code",
   "execution_count": 1,
   "metadata": {},
   "outputs": [],
   "source": [
    "from ortools.linear_solver import pywraplp"
   ]
  },
  {
   "cell_type": "markdown",
   "metadata": {},
   "source": [
    "A continuación creamos el solver mediane una instancia de la clase GLOP."
   ]
  },
  {
   "cell_type": "code",
   "execution_count": 2,
   "metadata": {},
   "outputs": [],
   "source": [
    "# Creamos el optmizador linel derivado de GLOP.\n",
    "solver = pywraplp.Solver.CreateSolver('GLOP')"
   ]
  },
  {
   "cell_type": "markdown",
   "metadata": {},
   "source": [
    "A continuación creamos las variables, con las restricciones que deben cumplir para ste problema."
   ]
  },
  {
   "cell_type": "code",
   "execution_count": 6,
   "metadata": {},
   "outputs": [
    {
     "name": "stdout",
     "output_type": "stream",
     "text": [
      "Número total de variables = 4\n"
     ]
    }
   ],
   "source": [
    "# Creamos las variables x e y.\n",
    "x = solver.NumVar(0, 1, 'x')\n",
    "y = solver.NumVar(0, 2, 'y')\n",
    "\n",
    "print('Número total de variables =', solver.NumVariables())"
   ]
  },
  {
   "cell_type": "markdown",
   "metadata": {},
   "source": [
    "Creamos la restricción lineal que nos indica el problema"
   ]
  },
  {
   "cell_type": "code",
   "execution_count": null,
   "metadata": {},
   "outputs": [],
   "source": [
    "# Creamos la siguiente restricción lineal: 0 <= x + y <= 2.\n",
    "ct = solver.Constraint(0, 2, 'ct')\n",
    "ct.SetCoefficient(x, 1)\n",
    "ct.SetCoefficient(y, 1)\n",
    "\n",
    "print('Number of constraints =', solver.NumConstraints())"
   ]
  },
  {
   "cell_type": "markdown",
   "metadata": {},
   "source": [
    "Creamos la función objetivo"
   ]
  },
  {
   "cell_type": "code",
   "execution_count": 5,
   "metadata": {},
   "outputs": [],
   "source": [
    "# Create the objective function, 3 * x + y.\n",
    "objective = solver.Objective()\n",
    "objective.SetCoefficient(x, 3)\n",
    "objective.SetCoefficient(y, 1)\n",
    "objective.SetMaximization()"
   ]
  },
  {
   "cell_type": "markdown",
   "metadata": {},
   "source": [
    "y por último resolvemos."
   ]
  },
  {
   "cell_type": "code",
   "execution_count": 6,
   "metadata": {},
   "outputs": [
    {
     "name": "stdout",
     "output_type": "stream",
     "text": [
      "Solution:\n",
      "Objective value = 4.0\n",
      "x = 1.0\n",
      "y = 1.0\n"
     ]
    }
   ],
   "source": [
    "solver.Solve()\n",
    "print('Solucion:')\n",
    "print('valor objetivo =', objective.Value())\n",
    "print('x =', x.solution_value())\n",
    "print('y =', y.solution_value())"
   ]
  },
  {
   "cell_type": "markdown",
   "metadata": {},
   "source": [
    "Como puede verse del resultado de la ejecución del código anterior, los valores x e y son exactamente los mismos que los obtenidos utilizando el sistema gráfico.\n",
    "\n",
    "Otro ejemplo sería el siguiente\n",
    "\n",
    "$$\n",
    "\\begin{align*}\n",
    "max\\quad3x+8y\\\\\n",
    "s.t.\\\\\n",
    "2x+4y\\leq1600\\\\\n",
    "6x+2y\\leq1700\\\\\n",
    "y\\leq350\\\\\n",
    "x\\geq0\\\\\n",
    "y\\geq0\n",
    "\\end{align*}\n",
    "$$"
   ]
  },
  {
   "cell_type": "markdown",
   "metadata": {},
   "source": [
    "Utilizando procedimiento gráfico tenemos el siguiente resultado\n",
    "![Ejemplo 2](fig/fig2.PNG)"
   ]
  },
  {
   "cell_type": "markdown",
   "metadata": {},
   "source": [
    "El código completo para resolver este problema sería el siguiente"
   ]
  },
  {
   "cell_type": "code",
   "execution_count": 7,
   "metadata": {},
   "outputs": [
    {
     "name": "stdout",
     "output_type": "stream",
     "text": [
      "Número total de variables 2\n",
      "Number of constraints = 3\n",
      "Solution:\n",
      "Objective value = 3100.0\n",
      "x = 100.00000000000007\n",
      "y = 350.0\n"
     ]
    }
   ],
   "source": [
    "#Importamos la clase correspondiente\n",
    "from ortools.linear_solver import pywraplp\n",
    "\n",
    "#Creamos al solver\n",
    "solver = pywraplp.Solver.CreateSolver('GLOP')\n",
    "\n",
    "#Creamos las variables necesarias\n",
    "x = solver.NumVar(0, solver.infinity(), 'x')\n",
    "y = solver.NumVar(0, solver.infinity(), 'y')\n",
    "print('Número total de variables {}'.format(solver.NumVariables()))\n",
    "\n",
    "#Definimos las restricciones\n",
    "# Restricción 0: 2x + 4y <= 1600.\n",
    "solver.Add(2*x + 4 * y <= 1600.0)\n",
    "\n",
    "# Restricción 1: 6x + 2y <= 1700\n",
    "solver.Add(6* x + 2*y <= 1700.0)\n",
    "\n",
    "# Restricción 2:  y <= 350.\n",
    "solver.Add(y <= 350.0)\n",
    "\n",
    "print('Number of constraints =', solver.NumConstraints())\n",
    "\n",
    "# Definimos la función objetivo\n",
    "solver.Maximize(3*x+8*y)\n",
    "\n",
    "# Ejecutamos el solver\n",
    "status = solver.Solve()\n",
    "\n",
    "# Sacamos la solución\n",
    "if status == pywraplp.Solver.OPTIMAL:\n",
    "    print('Solution:')\n",
    "    print('Objective value =', solver.Objective().Value())\n",
    "    print('x =', x.solution_value())\n",
    "    print('y =', y.solution_value())\n",
    "else:\n",
    "    print('The problem does not have an optimal solution.')"
   ]
  },
  {
   "cell_type": "markdown",
   "metadata": {},
   "source": [
    "Podemos ver que la solución sería x=100 e y=350 que son los datos que hemos obtenido con la solución gráfica.\n",
    "\n",
    "La solución gráfica es muy fácil de obtener cuando se está trabajando con dos variables, pero sin embargo cuando el número de variables aumenta, hay que acudir a métodos analíticos que mediante la formulación matemática correspondiente nos ofrece el resultado buscado. Un ejemplo con tres variables lo tenemos en el siguiente problema.\n",
    "\n",
    "$$\n",
    "\\begin{align*}\n",
    "max\\qquad x+2y+3z\\\\\n",
    "s.t.\\\\\n",
    "2x+y+z\\leq20\\\\\n",
    "x+y+z\\leq15\\\\\n",
    "x-y-z\\geq0\\\\\n",
    "x,y,z\\geq0\n",
    "\\end{align*}\n",
    "$$\n",
    "\n",
    "Siguiendo las pautas dadas en los ejemplos anteriores, el código necesario para resolver este problema sería el siguiente."
   ]
  },
  {
   "cell_type": "code",
   "execution_count": 12,
   "metadata": {},
   "outputs": [
    {
     "name": "stdout",
     "output_type": "stream",
     "text": [
      "x_opt:  6.666666666666667\n",
      "y_opt:  0.0\n",
      "z_opt:  6.666666666666667\n",
      "valor óptimo: 26.666666666666668\n",
      "valor objetivo_2 = 26.666666666666668\n"
     ]
    }
   ],
   "source": [
    "from ortools.linear_solver import pywraplp\n",
    "\n",
    "#Creamos al solver\n",
    "solver = pywraplp.Solver.CreateSolver('GLOP')\n",
    "\n",
    "# declarar la variable x, con límite inferior 0 y sin límite superior\n",
    "x = solver.NumVar(0, solver.infinity(), \"x\")\n",
    "# declarar variable y, con límite inferior 0 y sin límite superior\n",
    "y = solver.NumVar(0, solver.infinity(), \"y\")\n",
    "# declarar la variable z, con límite inferior 0 y sin límite superior\n",
    "z = solver.NumVar(0, solver.infinity(), \"z\")\n",
    "\n",
    "\n",
    "# agregar un objetivo al solucionador\n",
    "objective = solver.Objective()\n",
    "# agregar términos al objetivo de manera que la función objetivo resulte la correcta\n",
    "objective.SetCoefficient(x, 1)\n",
    "objective.SetCoefficient(y, 2)\n",
    "objective.SetCoefficient(z, 3)\n",
    "# declarar el problema como un problema de maximización\n",
    "objective.SetMaximization()\n",
    "\n",
    "# agregar restricción: 2x + y + z <= 20\n",
    "constraint = solver.Constraint(-solver.infinity(), 20)\n",
    "constraint.SetCoefficient(x, 2)\n",
    "constraint.SetCoefficient(y, 1)\n",
    "constraint.SetCoefficient(z, 1)\n",
    "# agregar restricción: x + y + z <= 15\n",
    "constraint = solver.Constraint(-solver.infinity(),15)\n",
    "constraint.SetCoefficient(x, 1)\n",
    "constraint.SetCoefficient(y, 1)\n",
    "constraint.SetCoefficient(z, 1)\n",
    "# agregar restricción: x - y - z> = 0\n",
    "constraint = solver.Constraint(0,solver.infinity())\n",
    "constraint.SetCoefficient(x, 1)\n",
    "constraint.SetCoefficient(y, -1)\n",
    "constraint.SetCoefficient(z, -1)\n",
    "\n",
    "# Resuelvo problema\n",
    "solver.Solve()\n",
    "\n",
    "#Solución óptima para x\n",
    "print(\"x_opt: \", x.solution_value())\n",
    "#Solución óptima para y\n",
    "print(\"y_opt: \", y.solution_value())\n",
    "#Solución óptima para x\n",
    "print(\"z_opt: \", z.solution_value())\n",
    "\n",
    "#Valor de la función objetivo\n",
    "print(\"valor óptimo: \" + str(x.solution_value()+2*y.solution_value()+3*z.solution_value()))\n",
    "\n",
    "# O también\n",
    "print('valor objetivo_2 =', objective.Value())"
   ]
  },
  {
   "cell_type": "markdown",
   "metadata": {},
   "source": [
    "## Usando arrays para definir el modelo.\n",
    "\n",
    "En el ejemplo anterior, se tienen tan sólo tres variables para optimizar el problema y entonces perfectamente se puede hacer el planteamiento sin gran esfuerzo, ahora bien cómo ¿ podemos plantear el problema cuando en lugar de tres variables se podrían tener 20 por ejemplo?. En esta situación tendriamos que acudir a reformular el problema de otra manera, y con la finalidad de que tenga más bien una aportación didáctica, a continuación se va a reformular el anterior problema a fin de que el lector pueda ver cómo poder hacerlo cuando se esté trabajando con un número considerable de variables.\n",
    "\n",
    "En primer lugar, se tendrán que definir los parámetros que van a acompañar a las variables del problema."
   ]
  },
  {
   "cell_type": "code",
   "execution_count": 7,
   "metadata": {},
   "outputs": [],
   "source": [
    "para_objetivo =[1,2,3] # coeficientes función objetivo\n",
    "\n",
    "para_restri =[  #coeficientes para restricciones lineales\n",
    "    [2,1,1],\n",
    "    [1,1,1],\n",
    "    [-1,1,1] #Observar que esta ecuación la cambio de signo\n",
    "]\n",
    "\n",
    "tope_restri =[20,15,0] #tope para las restricciones\n",
    "nombres =['x','y','z'] #los nombres de las variables"
   ]
  },
  {
   "cell_type": "markdown",
   "metadata": {},
   "source": [
    "Para tener una uniformidad en la definición del problema, la tercera restricción la he cambiado de de signo, a fin de que todas las restricciones tengan una desigualdad del tipo menor o igual.\n",
    "\n",
    "Con estas definiciones previas, la actuación sería la siguiente.\n",
    "\n",
    "Definimos los paquetes necesarios y creamos el solver correspondiente."
   ]
  },
  {
   "cell_type": "code",
   "execution_count": 14,
   "metadata": {},
   "outputs": [],
   "source": [
    "from ortools.linear_solver import pywraplp\n",
    "\n",
    "#Creamos al solver\n",
    "solver = pywraplp.Solver.CreateSolver('GLOP')"
   ]
  },
  {
   "cell_type": "markdown",
   "metadata": {},
   "source": [
    "Declaramos las variables"
   ]
  },
  {
   "cell_type": "code",
   "execution_count": 15,
   "metadata": {},
   "outputs": [
    {
     "name": "stdout",
     "output_type": "stream",
     "text": [
      "Número total de variables  3\n"
     ]
    }
   ],
   "source": [
    "x = {} \n",
    "for h in range(len(para_objetivo)):\n",
    "    x[h] = solver.NumVar(0, solver.infinity(),nombres[h])\n",
    "print('Número total de variables ', solver.NumVariables())"
   ]
  },
  {
   "cell_type": "markdown",
   "metadata": {},
   "source": [
    "A continuación toca añadir las restricciones"
   ]
  },
  {
   "cell_type": "code",
   "execution_count": 17,
   "metadata": {},
   "outputs": [
    {
     "name": "stdout",
     "output_type": "stream",
     "text": [
      "Número total de restricciones:  3\n"
     ]
    }
   ],
   "source": [
    "for h in range(len(tope_restri)):\n",
    "    constraint = solver.Constraint(-solver.infinity(), tope_restri[h])\n",
    "    for j in range(len(para_objetivo)):\n",
    "        constraint.SetCoefficient(x[j],para_restri[h][j])\n",
    "    \n",
    "print('Número total de restricciones: ',solver.NumConstraints())"
   ]
  },
  {
   "cell_type": "markdown",
   "metadata": {},
   "source": [
    "Definimos a continuación la función objetivo"
   ]
  },
  {
   "cell_type": "code",
   "execution_count": 18,
   "metadata": {},
   "outputs": [],
   "source": [
    "objective = solver.Objective()\n",
    "# agregar términos al objetivo \n",
    "for h in range(len(para_objetivo)):\n",
    "    objective.SetCoefficient(x[h],para_objetivo[h])\n",
    "\n",
    "objective.SetMaximization()"
   ]
  },
  {
   "cell_type": "markdown",
   "metadata": {},
   "source": [
    "Y ya estamos en condiciones de resolver el problema"
   ]
  },
  {
   "cell_type": "code",
   "execution_count": 21,
   "metadata": {},
   "outputs": [
    {
     "name": "stdout",
     "output_type": "stream",
     "text": [
      "Solución para  x : 6.666666666666667\n",
      "Solución para  y : 0.0\n",
      "Solución para  z : 6.666666666666667\n",
      "valor objetivo = 26.666666666666668\n"
     ]
    }
   ],
   "source": [
    "# Resuelvo problema\n",
    "solver.Solve()\n",
    "\n",
    "for h in range(len(para_objetivo)):\n",
    "    print(\"Solución para \",x[h].name(),\":\",x[h].solution_value())\n",
    "\n",
    "\n",
    "# Valor función objetivo\n",
    "print('valor objetivo =', objective.Value())"
   ]
  },
  {
   "cell_type": "markdown",
   "metadata": {},
   "source": [
    "### El problema de la dieta de Stigler.\n",
    "\n",
    "Como puede verse en el planteamiento del anterior problema, el hecho de poder utilizar arrays mejora sustancialmente la formulación del modelo de optimización lineal. Pero aún se ve mucho mejor esta mejora si el número de variables aumenta sustancialmente.\n",
    "\n",
    "Esto se puede ver en el denominado problema de la dieta de Stigler, que se puede ver en el [siguiente enlace](https://developers.google.com/optimization/lp/glop), pero que ppor su interés, se reproduce en este apartado.\n",
    "\n",
    "El enunciado inicial del problema se puede ver en [este enlace de la wikipedia](https://en.wikipedia.org/wiki/Stigler_diet). Se trata de un problema de optimización lineal formulado popr George Stigler, y cuyo enunciado es el siguiente:\n",
    "\n",
    ">Para un hombre moderadamente activo que pesa 154 libras, ¿qué cantidad de cada uno de los 77 alimentos debe consumir diariamente para que la ingesta de nueve nutrientes sea al menos igual a las cantidades dietéticas recomendadas (RDA) sugeridas por el Consejo Nacional de Investigación en 1943, siendo el coste de la dieta mínimo?\n",
    "\n",
    "Esta dieta va a exigir los requerimientos mínimos que se indican a continuación:\n",
    "\n",
    "|**Nutrientes** | **Ingesta diaria recomendada**|\n",
    "-- | --\n",
    "|Calories\t|3,000 Calories |\n",
    "|Protein\t|70 grams|\n",
    "|Calcium\t|.8 grams|\n",
    "|ron\t|2 milligrams|\n",
    "|itamin A\t|,000 IU|\n",
    "|hiamine (Vitamin B1)\t|.8 milligrams|\n",
    "|iboflavin (Vitamin B2)\t|.7 milligrams|\n",
    "|Niacin\t|18 milligrams|\n",
    "|Ascorbic Acid (Vitamin C)\t|75 milligrams|\n",
    "\n",
    "El conjunto de alimentos que evaluó Stigler era un reflejo de la época (1944). Los datos nutricionales que aparecen a continuación son por dólar, no por unidad, por lo que el objetivo es determinar cuántos dólares hay que gastar en cada alimento.\n",
    "\n",
    "|Commodity\t|Unit\t|1939 price (cents)\t|Calories\t|Protein (g)\t|Calcium (g)|\tIron (mg)|\tVitamin A (IU)|\tThiamine (mg)|\tRiboflavin (mg)|\tNiacin (mg)|\tAscorbic Acid (mg)|\n",
    "|--|--|--|--|--|--|--|--|--|--|--|--\n",
    "|Wheat Flour (Enriched)\t|10 lb.\t|36\t|44.7\t|1411\t|2\t|365\t|0\t|55.4\t|33.3\t|441\t|0|\n",
    "|Macaroni\t|1 lb.\t|14.1|\t11.6|\t418|\t0.7|\t54|\t0|\t3.2|\t1.9|\t68|\t0|\n",
    "|Wheat Cereal (Enriched)|\t28 oz.|\t24.2|\t11.8|\t377|\t14.4|\t175|\t0|\t14.4|\t8.8|\t114|\t0|\n",
    "|Corn Flakes|\t8 oz.|\t7.1|\t11.4|\t252|\t0.1|\t56|\t0|\t13.5|\t2.3|\t68|\t0|\n",
    "|Corn Meal|\t1 lb.|\t4.6|\t36.0|\t897|\t1.7|\t99|\t30.9|\t17.4|\t7.9|\t106|\t0|\n",
    "|Hominy Grits|\t24 oz.|\t8.5|\t28.6|\t680|\t0.8|\t80|\t0|\t10.6|\t1.6|\t110|\t0|\n",
    "|Rice|\t1 lb.|\t7.5|\t21.2|\t460|\t0.6|\t41|\t0|\t2|\t4.8|\t60|\t0|\n",
    "|Rolled Oats|\t1 lb.|\t7.1|\t25.3|\t907|\t5.1|\t341|\t0|\t37.1|\t8.9|\t64|\t0|\n",
    "|White Bread (Enriched)|\t1 lb.|\t7.9|\t15.0|\t488|\t2.5|\t115|\t0|\t13.8|\t8.5|\t126|\t0|\n",
    "|Whole Wheat Bread|\t1 lb.|\t9.1|\t12.2|\t484|\t2.7|\t125|\t0|\t13.9|\t6.4|\t160|\t0|\n",
    "|Rye Bread|\t1 lb.|\t9.1\t|12.4|\t439|\t1.1|\t82|\t0|\t9.9|\t3|\t66|\t0|\n",
    "|Pound Cake|\t1 lb.|\t24.8|\t8.0|\t130|\t0.4|\t31|\t18.9|\t2.8|\t3|\t17|\t0|\n",
    "|Soda Crackers|\t1 lb.|\t15.1|\t12.5|\t288|\t0.5|\t50|\t0|\t0|\t0|\t0|\t0|\n",
    "|Milk\t|1 qt.|\t11|\t6.1|\t310|\t10.5|\t18|\t16.8|\t4|\t16|\t7|\t177|\n",
    "|Evaporated Milk (can)|\t14.5 oz.|\t6.7|\t8.4|\t422|\t15.1|\t9|\t26|\t3|\t23.5|\t11|\t60|\n",
    "|Butter|\t1 lb.|\t30.8|\t10.8|\t9|\t0.2|\t3|\t44.2|\t0\t|0.2|\t2|\t0|\n",
    "|Oleomargarine|\t1 lb.|\t16.1|\t20.6|\t17|\t0.6|\t6|\t55.8|\t0.2|\t0|\t0|\t0|\n",
    "|Eggs|\t1 doz.|\t32.6|\t2.9|\t238|\t1.0|\t52|\t18.6|\t2.8|\t6.5|\t1|\t0|\n",
    "|Cheese (Cheddar)|\t1 lb.|\t24.2|\t7.4|\t448|\t16.4|\t19|\t28.1|\t0.8|\t10.3|\t4|\t0|\n",
    "|Cream|\t1/2 pt.|\t14.1|\t3.5|\t49|\t1.7|\t3|\t16.9|\t0.6|\t2.5|\t0|\t17|\n",
    "|Peanut Butter|\t1 lb.|\t17.9|\t15.7|\t661|\t1.0|\t48|\t0|\t9.6|\t8.1|\t471|\t0|\n",
    "|Mayonnaise\t|1/2 pt.|\t16.7|\t8.6|\t18|\t0.2|\t8|\t2.7|\t0.4|\t0.5|\t0|\t0|\n",
    "|Crisco\t|1 lb.|\t20.3|\t20.1|\t0|\t0|\t0|\t0|\t0|\t0|\t0|\t0|\n",
    "|Lard|\t1 lb.|\t9.8|\t41.7|\t0|\t0|\t0|\t0.2|\t0|\t0.5|\t5|\t0|\n",
    "|Sirloin Steak|\t1 lb.|\t39.6|\t2.9|\t166|\t0.1|\t34|\t0.2|\t2.1|\t2.9|\t69|\t0|\n",
    "|Round Steak|\t1 lb.|\t36.4|\t2.2|\t214|\t0.1|\t32|\t0.4|\t2.5|\t2.4|\t87|\t0|\n",
    "|Rib Roast|\t1 lb.|\t29.2|\t3.4|\t213|\t0.1|\t33|\t0|\t0|\t2|\t0|\t0|\n",
    "|Chuck Roast|\t1 lb.|\t22.6|\t3.6|\t309|\t0.2|\t46|\t0.4|\t1|\t4|\t120|\t0|\n",
    "|Plate|\t1 lb.|\t14.6|\t8.5\t|404|\t0.2|\t62|\t0|\t0.9|\t0|\t0|\t0|\n",
    "|Liver (Beef)|\t1 lb.|\t26.8|\t2.2|\t333|\t0.2|\t139|\t169.2|\t6.4|\t50.81|\t316|\t525|\n",
    "|Leg of Lamb|\t1 lb.|\t27.6|\t3.1|\t245|\t0.1|\t20|\t0\t|2.8|\t3.9|\t86|\t0|\n",
    "|Lamb Chops (Rib)|\t1 lb.|\t36.6|\t3.3|\t140|\t0.1|\t15|\t0|\t1.7|\t2.7|\t54\t|0|\n",
    "|Pork Chops|\t1 lb.|\t30.7|\t3.5|\t196|\t0.2|\t30|\t0|\t17.4|\t2.7|\t60|\t0|\n",
    "|Pork Loin Roast|\t1 lb.|\t24.2|\t4.4|\t249|\t0.3|\t37|\t0|\t18.2|\t3.6|\t79|\t0|\n",
    "|Bacon|\t1 lb.|\t25.6|\t10.41|\t152|\t0.2|\t23|\t0|\t1.8|\t1.8|\t71|\t0|\n",
    "|Ham, smoked|\t1 lb.|\t27.4|\t6.7|\t212|\t0.2|\t31|\t0|\t9.9|\t3.3|\t50|\t0|\n",
    "|Salt Pork\t|1 lb.|\t16|\t18.8|\t164|\t0.1|\t26|\t0|\t1.4|\t1.8|\t0|\t0|\n",
    "|Roasting Chicken|\t1 lb.|\t30.3|\t1.8|\t184|\t0.1|\t30|\t0.1|\t0.9|\t1.8|\t68|\t461\n",
    "|Veal Cutlets|\t1 lb.|\t42.3|\t1.7|\t156|\t0.1|\t24|\t0|\t1.4\t|2.4|\t57|\t0|\n",
    "|Salmon, Pink (can)|\t16 oz.|\t13|\t5.8|\t705|\t6.8|\t45|\t3.5|\t1|\t4.9|\t209|\t0|\n",
    "|Apples\t|1 lb.|\t4.4|\t5.8|\t27|\t0.5|\t36|\t7.3|\t3.6|\t2.7|\t5|\t544|\n",
    "|Bananas\t|1 lb.\t|6.1|\t4.9|\t60|\t0.4|\t30|\t17.4|\t2.5|\t3.5|\t28|\t498|\n",
    "|Lemons\t|1 doz.|\t26|\t1.0|\t21|\t0.5|\t14|\t0|\t0.5|\t0|\t4|\t952|\n",
    "|Oranges|\t1 doz.|\t30.9|\t2.2|\t40|\t1.1|\t18|\t11.1|\t3.6|\t1.3|\t10|\t1998|\n",
    "|Green Beans|\t1 lb.|\t7.1|\t2.4|\t138|\t3.7|\t80|\t69|\t4.3|\t5.8|\t37|\t862|\n",
    "|Cabbage|\t1 lb.|\t3.7|\t2.6|\t125|\t4.0|\t36|\t7.2|\t9|\t4.5|\t26|\t5369|\n",
    "|Carrots\t|1 bunch|\t4.7|\t2.7|\t73|\t2.8|\t43|\t188.5|\t6.1|\t4.3|\t89|\t6081\n",
    "|Celery|\t1 stalk|\t7.3|\t0.9|\t51|\t3.0|\t23|\t0.9|\t1.4|\t1.4|\t9|\t313|\n",
    "|Lettuce|\t1 head|\t8.2|\t0.4|\t27|\t1.1|\t22|\t112.4|\t1.8|\t3.4|\t11|\t449|\n",
    "|Onions|\t1 lb.\t|3.6|\t5.8|\t166|\t3.8|\t59|\t16.6|\t4.7|\t5.9|\t21|\t1184|\n",
    "|Potatoes|\t15 lb.|\t34|\t14.3|\t336|\t1.8|\t118|\t6.7|\t29.41|\t7.1|\t198|\t2522|\n",
    "|Spinach|\t1 lb.|\t8.1|\t1.1\t|106|\t0|\t138|\t918.4|\t5.7|\t13.8|\t33\t|2755|\n",
    "|Sweet Potatoes|\t1 lb.|\t5.1|\t9.6|\t138|\t2.7|\t54|\t290.7|\t8.4|\t5.4|\t83|\t1912|\n",
    "|Peaches (can)|\tNo. 2 1/2|\t16.8|\t3.7|\t20|\t0.4|\t10|\t21.5|\t0.5|\t1\t|31|\t196|\n",
    "|Pears (can)|\tNo. 2 1/2|\t20.4|\t3.0|\t8|\t0.3|\t8|\t0.8|\t0.8|\t0.8|\t5|\t81|\n",
    "|Pineapple (can)|\tNo. 2 1/2|\t21.3|\t2.4\t|16|\t0.4|\t8|\t2|\t2.8|\t0.8|\t7\t|399|\n",
    "|Asparagus (can)|\tNo. 2|\t27.7|\t0.4|\t33|\t0.3|\t12|\t16.3|\t1.4|\t2.1|\t17|\t272|\n",
    "|Green Beans (can)|\tNo. 2\t|10\t|1.0|\t54|\t2|\t65|\t53.9|\t1.6|\t4.3|\t32|\t431|\n",
    "|Pork and Beans (can)|\t16 oz.|\t7.1|\t7.5|\t364|\t4|\t134|\t3.5|\t8.3|\t7.7|\t56|\t0|\n",
    "|Corn (can)|\tNo. 2|\t10.4|\t5.2|\t136|\t0.2|\t16|\t12|\t1.6|\t2.7|\t42|\t218|\n",
    "|Peas (can)|\tNo. 2|\t13.8|\t2.3|\t136|\t0.6|\t45|\t34.9|\t4.9|\t2.5|\t37|\t3701\n",
    "|Tomatoes (can)|\tNo. 2|\t8.6|\t1.3|\t63|\t0.7|\t38|\t53.2|\t3.4|\t2.5|\t36|\t1253|\n",
    "|Tomato Soup (can)|\t10 1/2 oz.|\t7.6|\t1.6\t|71|\t0.6|\t43|\t57.9|\t3.5|\t2.4|\t67|\t862|\n",
    "|Peaches, Dried|\t1 lb.|\t15.7|\t8.5|\t87|\t1.7|\t173|\t86.8|\t1.2|\t4.3|\t55|\t57|\n",
    "|Prunes, Dried|\t1 lb.|\t9|\t12.8|\t99|\t2.5|\t154|\t85.7|\t3.9|\t4.3|\t65|\t257|\n",
    "|Raisins, Dried|\t15 oz.|\t9.4|\t13.5|\t104\t|2.5|\t136\t|4.5|\t6.3|\t1.4|\t24|\t136|\n",
    "|Peas, Dried|\t1 lb.|\t7.9|\t20.0|\t1367|\t4.2|\t345|\t2.9|\t28.7|\t18.4|\t162|\t0|\n",
    "|Lima Beans, Dried|\t1 lb.|\t8.9|\t17.4|\t1055|\t3.7|\t459|\t5.1|\t26.9|\t38.2|\t93|\t0|\n",
    "|Navy Beans, Dried|\t1 lb.|\t5.9|\t26.9|\t1691|\t11.4|\t792|\t0|\t38.4|\t24.6|\t217|\t0|\n",
    "|Coffee|\t1 lb.|\t22.4|\t0|\t0|\t0|\t0|\t0|\t4|\t5.1|\t50|\t0|\n",
    "|Tea|\t1/4 lb.|\t17.4|\t0|\t0|\t0|\t0|\t0|\t0|\t2.3|\t42|\t0|\n",
    "|Cocoa\t|8 oz.|\t8.6|\t8.7|\t237|\t3|\t72|\t0|\t2|\t11.9|\t40|\t0|\n",
    "|Chocolate|\t8 oz.|\t16.2|\t8.0|\t77|\t1.3|\t39|\t0|\t0.9|\t3.4|\t14|\t0|\n",
    "|Sugar|\t10 lb.|\t51.7|\t34.9|\t0\t|0|\t0|\t0|\t0|\t0|\t0|\t01\n",
    "|Corn Syrup|\t24 oz.|\t13.7|\t14.7|\t0|\t0.5|\t74|\t0|\t0|\t0|\t5|\t0|\n",
    "|Molasses|\t18 oz.|\t13.6|\t9.0|\t0|\t10.3|\t244\t|0|\t1.9|\t7.5|\t146|\t0|\n",
    "|Strawberry Preserves|\t1 lb.|\t20.5|\t6.4\t|11|\t0.4\t|7|\t0.2|\t0.2|\t0.4|\t3|\t0|\n"
   ]
  },
  {
   "cell_type": "markdown",
   "metadata": {},
   "source": [
    "Como todos los nutrientes se han normalizado por el precio, nuestro objetivo es simplemente minimizar la suma de alimentos.\n",
    "\n",
    "En 1944 Stigler encontró una dieta que costaba 39,93 dólares al año, en dólares de 1939. En 1947, Jack Laderman utilizó el método simplex (entonces, un invento reciente) para determinar la solución óptima. Se necesitaron 120 días de trabajo de nueve empleados con calculadoras de escritorio para llegar a la respuesta.\n",
    "\n",
    "Las siguientes secciones presentan un programa en Python que resuelve el problema de la dieta de Stigler.\n",
    "\n",
    "Lo primero que debemos incorporar son los datos del problema"
   ]
  },
  {
   "cell_type": "code",
   "execution_count": 1,
   "metadata": {},
   "outputs": [],
   "source": [
    "data = [\n",
    "  ['Wheat Flour (Enriched)', '10 lb.', 36, 44.7, 1411, 2, 365, 0, 55.4, 33.3, 441, 0],\n",
    "  ['Macaroni', '1 lb.', 14.1, 11.6, 418, 0.7, 54, 0, 3.2, 1.9, 68, 0],\n",
    "  ['Wheat Cereal (Enriched)', '28 oz.', 24.2, 11.8, 377, 14.4, 175, 0, 14.4, 8.8, 114, 0],\n",
    "  ['Corn Flakes', '8 oz.', 7.1, 11.4, 252, 0.1, 56, 0, 13.5, 2.3, 68, 0],\n",
    "  ['Corn Meal', '1 lb.', 4.6, 36.0, 897, 1.7, 99, 30.9, 17.4, 7.9, 106, 0],\n",
    "  ['Hominy Grits', '24 oz.', 8.5, 28.6, 680, 0.8, 80, 0, 10.6, 1.6, 110, 0],\n",
    "  ['Rice', '1 lb.', 7.5, 21.2, 460, 0.6, 41, 0, 2, 4.8, 60, 0],\n",
    "  ['Rolled Oats', '1 lb.', 7.1, 25.3, 907, 5.1, 341, 0, 37.1, 8.9, 64, 0],\n",
    "  ['White Bread (Enriched)', '1 lb.', 7.9, 15.0, 488, 2.5, 115, 0, 13.8, 8.5, 126, 0],\n",
    "  ['Whole Wheat Bread', '1 lb.', 9.1, 12.2, 484, 2.7, 125, 0, 13.9, 6.4, 160, 0],\n",
    "  ['Rye Bread', '1 lb.', 9.1, 12.4, 439, 1.1, 82, 0, 9.9, 3, 66, 0],\n",
    "  ['Pound Cake', '1 lb.', 24.8, 8.0, 130, 0.4, 31, 18.9, 2.8, 3, 17, 0],\n",
    "  ['Soda Crackers', '1 lb.', 15.1, 12.5, 288, 0.5, 50, 0, 0, 0, 0, 0],\n",
    "  ['Milk', '1 qt.', 11, 6.1, 310, 10.5, 18, 16.8, 4, 16, 7, 177],\n",
    "  ['Evaporated Milk (can)', '14.5 oz.', 6.7, 8.4, 422, 15.1, 9, 26, 3, 23.5, 11, 60],\n",
    "  ['Butter', '1 lb.', 30.8, 10.8, 9, 0.2, 3, 44.2, 0, 0.2, 2, 0],\n",
    "  ['Oleomargarine', '1 lb.', 16.1, 20.6, 17, 0.6, 6, 55.8, 0.2, 0, 0, 0],\n",
    "  ['Eggs', '1 doz.', 32.6, 2.9, 238, 1.0, 52, 18.6, 2.8, 6.5, 1, 0],\n",
    "  ['Cheese (Cheddar)', '1 lb.', 24.2, 7.4, 448, 16.4, 19, 28.1, 0.8, 10.3, 4, 0],\n",
    "  ['Cream', '1/2 pt.', 14.1, 3.5, 49, 1.7, 3, 16.9, 0.6, 2.5, 0, 17],\n",
    "  ['Peanut Butter', '1 lb.', 17.9, 15.7, 661, 1.0, 48, 0, 9.6, 8.1, 471, 0],\n",
    "  ['Mayonnaise', '1/2 pt.', 16.7, 8.6, 18, 0.2, 8, 2.7, 0.4, 0.5, 0, 0],\n",
    "  ['Crisco', '1 lb.', 20.3, 20.1, 0, 0, 0, 0, 0, 0, 0, 0],\n",
    "  ['Lard', '1 lb.', 9.8, 41.7, 0, 0, 0, 0.2, 0, 0.5, 5, 0],\n",
    "  ['Sirloin Steak', '1 lb.', 39.6, 2.9, 166, 0.1, 34, 0.2, 2.1, 2.9, 69, 0],\n",
    "  ['Round Steak', '1 lb.', 36.4, 2.2, 214, 0.1, 32, 0.4, 2.5, 2.4, 87, 0],\n",
    "  ['Rib Roast', '1 lb.', 29.2, 3.4, 213, 0.1, 33, 0, 0, 2, 0, 0],\n",
    "  ['Chuck Roast', '1 lb.', 22.6, 3.6, 309, 0.2, 46, 0.4, 1, 4, 120, 0],\n",
    "  ['Plate', '1 lb.', 14.6, 8.5, 404, 0.2, 62, 0, 0.9, 0, 0, 0],\n",
    "  ['Liver (Beef)', '1 lb.', 26.8, 2.2, 333, 0.2, 139, 169.2, 6.4, 50.8, 316, 525],\n",
    "  ['Leg of Lamb', '1 lb.', 27.6, 3.1, 245, 0.1, 20, 0, 2.8, 3.9, 86, 0],\n",
    "  ['Lamb Chops (Rib)', '1 lb.', 36.6, 3.3, 140, 0.1, 15, 0, 1.7, 2.7, 54, 0],\n",
    "  ['Pork Chops', '1 lb.', 30.7, 3.5, 196, 0.2, 30, 0, 17.4, 2.7, 60, 0],\n",
    "  ['Pork Loin Roast', '1 lb.', 24.2, 4.4, 249, 0.3, 37, 0, 18.2, 3.6, 79, 0],\n",
    "  ['Bacon', '1 lb.', 25.6, 10.4, 152, 0.2, 23, 0, 1.8, 1.8, 71, 0],\n",
    "  ['Ham, smoked', '1 lb.', 27.4, 6.7, 212, 0.2, 31, 0, 9.9, 3.3, 50, 0],\n",
    "  ['Salt Pork', '1 lb.', 16, 18.8, 164, 0.1, 26, 0, 1.4, 1.8, 0, 0],\n",
    "  ['Roasting Chicken', '1 lb.', 30.3, 1.8, 184, 0.1, 30, 0.1, 0.9, 1.8, 68, 46],\n",
    "  ['Veal Cutlets', '1 lb.', 42.3, 1.7, 156, 0.1, 24, 0, 1.4, 2.4, 57, 0],\n",
    "  ['Salmon, Pink (can)', '16 oz.', 13, 5.8, 705, 6.8, 45, 3.5, 1, 4.9, 209, 0],\n",
    "  ['Apples', '1 lb.', 4.4, 5.8, 27, 0.5, 36, 7.3, 3.6, 2.7, 5, 544],\n",
    "  ['Bananas', '1 lb.', 6.1, 4.9, 60, 0.4, 30, 17.4, 2.5, 3.5, 28, 498],\n",
    "  ['Lemons', '1 doz.', 26, 1.0, 21, 0.5, 14, 0, 0.5, 0, 4, 952],\n",
    "  ['Oranges', '1 doz.', 30.9, 2.2, 40, 1.1, 18, 11.1, 3.6, 1.3, 10, 1998],\n",
    "  ['Green Beans', '1 lb.', 7.1, 2.4, 138, 3.7, 80, 69, 4.3, 5.8, 37, 862],\n",
    "  ['Cabbage', '1 lb.', 3.7, 2.6, 125, 4.0, 36, 7.2, 9, 4.5, 26, 5369],\n",
    "  ['Carrots', '1 bunch', 4.7, 2.7, 73, 2.8, 43, 188.5, 6.1, 4.3, 89, 608],\n",
    "  ['Celery', '1 stalk', 7.3, 0.9, 51, 3.0, 23, 0.9, 1.4, 1.4, 9, 313],\n",
    "  ['Lettuce', '1 head', 8.2, 0.4, 27, 1.1, 22, 112.4, 1.8, 3.4, 11, 449],\n",
    "  ['Onions', '1 lb.', 3.6, 5.8, 166, 3.8, 59, 16.6, 4.7, 5.9, 21, 1184],\n",
    "  ['Potatoes', '15 lb.', 34, 14.3, 336, 1.8, 118, 6.7, 29.4, 7.1, 198, 2522],\n",
    "  ['Spinach', '1 lb.', 8.1, 1.1, 106, 0, 138, 918.4, 5.7, 13.8, 33, 2755],\n",
    "  ['Sweet Potatoes', '1 lb.', 5.1, 9.6, 138, 2.7, 54, 290.7, 8.4, 5.4, 83, 1912],\n",
    "  ['Peaches (can)', 'No. 2 1/2', 16.8, 3.7, 20, 0.4, 10, 21.5, 0.5, 1, 31, 196],\n",
    "  ['Pears (can)', 'No. 2 1/2', 20.4, 3.0, 8, 0.3, 8, 0.8, 0.8, 0.8, 5, 81],\n",
    "  ['Pineapple (can)', 'No. 2 1/2', 21.3, 2.4, 16, 0.4, 8, 2, 2.8, 0.8, 7, 399],\n",
    "  ['Asparagus (can)', 'No. 2', 27.7, 0.4, 33, 0.3, 12, 16.3, 1.4, 2.1, 17, 272],\n",
    "  ['Green Beans (can)', 'No. 2', 10, 1.0, 54, 2, 65, 53.9, 1.6, 4.3, 32, 431],\n",
    "  ['Pork and Beans (can)', '16 oz.', 7.1, 7.5, 364, 4, 134, 3.5, 8.3, 7.7, 56, 0],\n",
    "  ['Corn (can)', 'No. 2', 10.4, 5.2, 136, 0.2, 16, 12, 1.6, 2.7, 42, 218],\n",
    "  ['Peas (can)', 'No. 2', 13.8, 2.3, 136, 0.6, 45, 34.9, 4.9, 2.5, 37, 370],\n",
    "  ['Tomatoes (can)', 'No. 2', 8.6, 1.3, 63, 0.7, 38, 53.2, 3.4, 2.5, 36, 1253],\n",
    "  ['Tomato Soup (can)', '10 1/2 oz.', 7.6, 1.6, 71, 0.6, 43, 57.9, 3.5, 2.4, 67, 862],\n",
    "  ['Peaches, Dried', '1 lb.', 15.7, 8.5, 87, 1.7, 173, 86.8, 1.2, 4.3, 55, 57],\n",
    "  ['Prunes, Dried', '1 lb.', 9, 12.8, 99, 2.5, 154, 85.7, 3.9, 4.3, 65, 257],\n",
    "  ['Raisins, Dried', '15 oz.', 9.4, 13.5, 104, 2.5, 136, 4.5, 6.3, 1.4, 24, 136],\n",
    "  ['Peas, Dried', '1 lb.', 7.9, 20.0, 1367, 4.2, 345, 2.9, 28.7, 18.4, 162, 0],\n",
    "  ['Lima Beans, Dried', '1 lb.', 8.9, 17.4, 1055, 3.7, 459, 5.1, 26.9, 38.2, 93, 0],\n",
    "  ['Navy Beans, Dried', '1 lb.', 5.9, 26.9, 1691, 11.4, 792, 0, 38.4, 24.6, 217, 0],\n",
    "  ['Coffee', '1 lb.', 22.4, 0, 0, 0, 0, 0, 4, 5.1, 50, 0],\n",
    "  ['Tea', '1/4 lb.', 17.4, 0, 0, 0, 0, 0, 0, 2.3, 42, 0],\n",
    "  ['Cocoa', '8 oz.', 8.6, 8.7, 237, 3, 72, 0, 2, 11.9, 40, 0],\n",
    "  ['Chocolate', '8 oz.', 16.2, 8.0, 77, 1.3, 39, 0, 0.9, 3.4, 14, 0],\n",
    "  ['Sugar', '10 lb.', 51.7, 34.9, 0, 0, 0, 0, 0, 0, 0, 0],\n",
    "  ['Corn Syrup', '24 oz.', 13.7, 14.7, 0, 0.5, 74, 0, 0, 0, 5, 0],\n",
    "  ['Molasses', '18 oz.', 13.6, 9.0, 0, 10.3, 244, 0, 1.9, 7.5, 146, 0],\n",
    "  ['Strawberry Preserves', '1 lb.', 20.5, 6.4, 11, 0.4, 7, 0.2, 0.2, 0.4, 3, 0]];\n",
    "\n",
    "# Nutrientes mínimos.\n",
    "nutrients = [\n",
    "    ['Calories (1000s)', 3],\n",
    "    ['Protein (grams)', 70],\n",
    "    ['Calcium (grams)', 0.8],\n",
    "    ['Iron (mg)', 12],\n",
    "    ['Vitamin A (1000 IU)', 5],\n",
    "    ['Vitamin B1 (mg)', 1.8],\n",
    "    ['Vitamin B2 (mg)', 2.7],\n",
    "    ['Niacin (mg)', 18],\n",
    "    ['Vitamin C (mg)', 75]]"
   ]
  },
  {
   "cell_type": "markdown",
   "metadata": {},
   "source": [
    "A continuación creamos las variables con las que se va a trabajar para resolver este problema"
   ]
  },
  {
   "cell_type": "code",
   "execution_count": 3,
   "metadata": {},
   "outputs": [],
   "source": [
    "from ortools.linear_solver import pywraplp\n",
    "\n",
    "#Creamos al solver\n",
    "solver = pywraplp.Solver('SolveStigler',\n",
    "                         pywraplp.Solver.GLOP_LINEAR_PROGRAMMING)\n",
    "\n",
    "food = [[]] * len(data)\n",
    "\n",
    "# Objective: minimize the sum of (price-normalized) foods.\n",
    "objective = solver.Objective()\n",
    "for i in range(0, len(data)):\n",
    "  food[i] = solver.NumVar(0.0, solver.infinity(), data[i][0])\n",
    "  objective.SetCoefficient(food[i], 1)\n",
    "objective.SetMinimization()"
   ]
  },
  {
   "cell_type": "markdown",
   "metadata": {},
   "source": [
    "El método *MakeNumVar* crea una variable, food[i], para cada fila de la tabla. Como se ha mencionado anteriormente, los datos nutricionales son por dólar, por lo que food[i] es la cantidad de dinero a gastar en el alimento i.\n",
    "\n",
    "La función objetivo es el coste total de la comida, que es la suma de las variables food[i].\n",
    "\n",
    "El método *SetCoefficient* establece los coeficientes de la función objetivo, que en este caso son todos 1. Por último, el método *SetMinimization* declara que se trata de **un problema de minimización**."
   ]
  },
  {
   "cell_type": "markdown",
   "metadata": {},
   "source": [
    "A continuación definimos las restricciones. Hay que tener en cuenta que las restricciones de la dieta de Stigler exigen que la cantidad total de nutrientes aportada por todos los alimentos sea al menos el requisito mínimo de cada nutriente. A continuación, escribimos estas restricciones como desigualdades que implican las matrices datos y nutrientes, y las variables alimento[i].\n",
    "\n",
    "En primer lugar, la cantidad de nutriente i proporcionada por el alimento j por dólar es data[j][i+3] (añadimos 3 al índice de la columna porque los datos del nutriente comienzan en la cuarta columna de data). Dado que la cantidad de dinero que se va a gastar en el alimento j es el alimento[j], la cantidad de nutriente i que proporciona el alimento j es \\( datos[j][i+3] \\cdot alimento[j] \\cdot). Por último, como el requisito mínimo del nutriente i es nutrientes[i][1], podemos escribir la restricción i de la siguiente manera \\[ \\sum_{j} datos[j][i+3] \\cdot alimento[j] \\geq nutrientes[i][1] \\;\\\\cdot; (1) \\cdot] El siguiente código define estas restricciones."
   ]
  },
  {
   "cell_type": "code",
   "execution_count": 4,
   "metadata": {},
   "outputs": [],
   "source": [
    "# Creamos las restricciones, una por nutriente.\n",
    "constraints = [0] * len(nutrients)\n",
    "for i in range(0, len(nutrients)):\n",
    "  constraints[i] = solver.Constraint(nutrients[i][1], solver.infinity())\n",
    "  for j in range(0, len(data)):\n",
    "    constraints[i].SetCoefficient(food[j], data[j][i+3])"
   ]
  },
  {
   "cell_type": "markdown",
   "metadata": {},
   "source": [
    "Ahora ya sólo nos queda ejecutar el solver y resolver el problema "
   ]
  },
  {
   "cell_type": "code",
   "execution_count": 6,
   "metadata": {},
   "outputs": [
    {
     "name": "stdout",
     "output_type": "stream",
     "text": [
      "Wheat Flour (Enriched) = 0.029519\n",
      "Liver (Beef) = 0.001893\n",
      "Cabbage = 0.011214\n",
      "Spinach = 0.005008\n",
      "Navy Beans, Dried = 0.061029\n",
      "Precio óptimo anual: $39.66\n"
     ]
    }
   ],
   "source": [
    "\n",
    "\n",
    "status = solver.Solve()\n",
    "\n",
    "if status == solver.OPTIMAL:\n",
    "  # Mostrar la cantidad (en dolares) a comprar para cada alimento.\n",
    "  price = 0\n",
    "  num_nutrients = len(data[i]) - 3\n",
    "  nutrients = [0] * (len(data[i]) - 3)\n",
    "  for i in range(0, len(data)):\n",
    "    price += food[i].solution_value()\n",
    "\n",
    "    for nutrient in range(0, num_nutrients):\n",
    "      nutrients[nutrient] += data[i][nutrient+3] * food[i].solution_value()\n",
    "\n",
    "    if food[i].solution_value() > 0:\n",
    "      print('%s = %f' % (data[i][0], food[i].solution_value()))\n",
    "\n",
    "  print('Precio óptimo anual: $%.2f' % (365 * price))\n",
    "else:  # No se ha encontrado una solución óptima\n",
    "  if status == solver.FEASIBLE:\n",
    "    print('Se encontró una solución potencialmente subóptima.')\n",
    "  else:\n",
    "    print('No se puede encontrar solución al problema.')"
   ]
  },
  {
   "cell_type": "markdown",
   "metadata": {},
   "source": [
    "# Optimización entera.\n",
    "\n"
   ]
  },
  {
   "cell_type": "markdown",
   "metadata": {},
   "source": [
    "## Introducción.\n",
    "\n",
    "Un problema de programación lineal entera ( PLE ) es un problema  de optimización de una función lineal en presencia de restricciones lineales con la condición añadida de que alguna o todas sus variables han de ser enteras. Si todas las variables presentes en el problema están obligadas a tomar valores enteros, estaremos ante un *problema de programación entera puro*. Si la restricción de integridad afecta sólo a algunas variables diremos que el *problema es de programación entera mixta*.\n",
    "\n",
    "En ocasiones las variables enteras están limitadas a tomar valores 0 ó 1, que se denominarán variables binarias. Si esta condición es extensiva a todas las variables del problema estaremos ante un *problema de programación 0-1 puro*. Si afecta sólo a alguna variable presente en el modelo, hablaremos de un *problema de programación 0-1 mixta*.\n",
    "\n",
    "Los problemas de programación entera en general, presentan grandes dificultades de tiempo de computación. El método símplex, tan eficaz en programación lineal, deja de ser válido cuando se busca una solución exacta de un problema de programación entera, ya sea pura o mixta. Para estos problemas debemos recurrir a otros métodos de resolución, como puede ser el algoritmo branch-and-bound o algoritmos de planos de corte. Los métodos utilizados por las herramientas facilitadas en OR_Tools, suelen ser bastante eficientes para lograr las soluciones óptimas a los problemas que se puedan plantear.\n",
    "\n",
    "Este apartado está dedicado a la formulación de problemas de programación lineal con presencia de variables enteras o binarias, y en especial a la modelización de condiciones o restricciones lógicas, muy habituales en la práctica. Hay dos grandes áreas de aplicaciones reales donde surgen estos problemas de programación entera. Por un lado, los problemas de optimización combinatorial, generalmente se pueden modelar como problemas de programación pura, bien con variables binarias o bien con variables enteras generales. A este grupo pertenecen los problemas de asignación, problemas de cargas y empaquetamiento, problemas de rutas de vehículos, problemas de secuencia de tareas, problemas de corte de materiales, muchos problemas de localización de plantas, almacenes y servicios, y una multitud de problemas donde la decisión de incluir un objeto (almacén, ruta, etc.) se modela con una variable binaria. \n",
    "\n",
    "Por otro lado, es muy habitual en la práctica la *presencia de restricciones lógicas*, lo que hace que muchos modelos, en principio de programación continua, se conviertan en modelos de programación mixta, por la presencia de variables auxiliares de tipo lógico. Todo esto hace que algunos autores consideren que más del 90 por ciento de las aplicaciones reales de optimización conduzcan a modelos de programación entera, pura o mixta. \n",
    "\n",
    "OR-Tools, denomina a este tipo de problemas de tipo MIP (  Mixed Integer Program ) y ofrece dos métodos para resolverlos.\n",
    "\n",
    "1.- MPSolver. Una envoltura para varios solucionadores MIP de terceros, que utilizan técnicas estándar de branch-and-bound.\n",
    "\n",
    "2.- CP-SAT solver. Utiliza SAT para resolver los problemas.\n",
    "\n",
    "No hay una regla infalible para decidir si se utiliza un solucionador MIP o el solucionador CP-SAT. Como guía aproximada, se puede tener en cuenta lo siguiente:\n",
    "\n",
    "* Los solucionadores MIP son más adecuados para los problemas que se pueden plantear como un LP estándar, pero con variables enteras arbitrarias.\n",
    "\n",
    "* El solucionador CP-SAT es más adecuado para problemas en los que la mayoría de las variables son booleanas.\n",
    "\n"
   ]
  },
  {
   "cell_type": "markdown",
   "metadata": {},
   "source": [
    "## Programación entera pura: condiciones lógicas.\n",
    "\n",
    "Veamos un ejemplo concreto de este tipo de problemas. Una empresa está planificando la inversión a realizar en los próximos 3 trimestres en 5 proyectos de investigación. En la siguiente tabla aparece detallado el presupuesto disponible por trimestre, la inversión que se debe realizar por proyecto y trimestre, y el beneficio que se espera obtener por cada proyecto. Todos los datos aparecen en millones de euros.\n",
    "\n",
    "\n",
    "|Proyecto|T1 |T2|T3 |Beneficio|\n",
    "|--|--|--|--|--|\n",
    "|1|5|1|8|20|\n",
    "|2|4|7|10|40|\n",
    "|3|3|9|2|20|\n",
    "|4|7|4|1|15|\n",
    "|5|8|6|10|30|\n",
    "|Presupuesto disponible|25|25|25||\n",
    "\n",
    "Se desea conocer los proyectos en los que se debe invertir para maximizar el beneficio obtenido. Hay hay que tener presente que no buscamos la cantidad a invertir en cada proyecto puesto que esta cantidad es fija y sólo depende del proyecto elegido. La única decisión que debemos tomar es si invertimos o no en un proyecto u otro con el fin de obtener el mayor beneficio posible sin superar el presupuesto disponible. En este se considerarán las variables 0-1 siguientes:\n",
    "\n",
    "\n",
    "$$\n",
    "x_{i}=\\begin{cases}\n",
    "1 & si\\,se\\,invierte\\,en\\,el\\,proyecto\\,i\\\\\n",
    "0 & si\\,no\\,se\\,invierte\\,en\\,el\\,proyecto\\,i\n",
    "\\end{cases}\n",
    "$$\n",
    "\n",
    "Entonces el modelo matemático a resolver sería el siguiente:\n",
    "\n",
    "$$\n",
    "\\begin{align*}\n",
    "max\\quad20x_{1}+40x_{2}+20x_{3}+15x_{4}+30x_{5}\\\\\n",
    "s.t\\\\\n",
    "5x_{1}+4x_{2}+3x_{3}+7x_{4}+8x_{5}\\leq25\\\\\n",
    "x_{1}+7x_{2}+9x_{3}+4x_{4}+6x_{5}\\leq25\\\\\n",
    "8x_{1}+10x_{2}+2x_{3}+x_{4}+10x_{5}\\leq25\\\\\n",
    "x_{1},x_{2},x_{3},x_{4},x_{5}\\epsilon\\{0,1\\}\n",
    "\\end{align*}\n",
    "$$\n",
    "\n",
    "Todas las variables presentes en este problema están restringidas a tomar los valores enteros 0 ó 1, luego estamos ante un problema de programación 0-1 pura. La solución a este problema es invertir en todos los proyectos salvo en el 5, obteniéndose un beneficio de 95 millones de euros.\n",
    "\n",
    "Supóngase que la dirección de la empresa impone algunas de las siguientes condiciones sobre la inversión.\n",
    "\n",
    "1.- Se debe invertir como mucho en tres proyectos.\n",
    "\n",
    "2.- Se debe invertir o en el proyecto 1 o en el 5 ( o en ambos)\n",
    "\n",
    "3.- Si se invierte en el proyecto 4 se debe invertir en el 3.\n",
    "\n",
    "4.- Si se invierte en los proyectos 2 ó 3 se debe invertir en el proyecto 5.\n",
    "\n",
    "¿ Cómo se incluyen esas condiciones en el modelo matemático ?. Formalizar la primera de las condiciones es sencillo. Téngase en cuenta que la suma de todas las variables no dará el número de proyectos en los que vayamos a invertir. Bastará entonces añadir al modelo la siguiente restricción: $x_{1}+x_{2}+x_{3}+x_{4}+x_{5}\\leq3$.\n",
    "\n",
    "La decisión de invertir o en el proyecto 1 o en el 5 es equivalente a que en la solución óptima aparezca $x_1=1$ o $x_5=1$ o ambos valores. Si incorporamos a la formulación las restricciones:\n",
    "\n",
    "$$x_{1}\\geq1,x_{5}\\geq1$$\n",
    "\n",
    "estaremos obligando a que $x_1=x_5=1$ y esta solución no respeta la decisión tomada. Ahora bien, la expresión:\n",
    "\n",
    "$$x_1+x_5\\geq1$$\n",
    "\n",
    "refleja fielmente la condición de invertir e uno u otro proyecto o en ambos.\n",
    "\n",
    "La tercera condición es equivalente a la siguiente condición lógica: si $x_4=1$ entonces $x_3=1$. Como nuestras variables sólo pueden tomar los valores 0 ó 1, esta condición es equivalente a decir que $x_3$ de tomar por lo menos el valor de $x_4$, es decir:\n",
    "\n",
    "$$x_3\\geq x_4$$\n",
    "\n",
    "Por último y una vez aclarado el punto anterior, resulta sencillo formalizar matemáticamente la cuarta condición.\n",
    "\n",
    "$$x_5\\geq x_2\\,y\\,x_5\\geq x_3$$\n",
    "\n",
    "Obsérvese que si añadimos la restricción $x_1+x_3\\geq x_5$, el lado izquierdo puede tomar el valor 2 si se decide invertir en los proyectos 2 y 3, mientras que la variable $x_5$ como mucho puede valer 1. \n",
    "\n",
    "Otra forma de incluir este última condición, puede ser mediante la restricción siguiente:\n",
    "\n",
    "$$x_2+x_3\\leq2x_5$$\n"
   ]
  },
  {
   "cell_type": "markdown",
   "metadata": {},
   "source": [
    "## Ejemplo programación entera pura.\n",
    "\n",
    "En este apartado vamos a ver cómo se puede plantear un problema de programación entera utilizando OR-Tools.\n",
    "\n",
    "El problema que se resolverá será el siguiente:\n",
    "\n",
    "$$\n",
    "\\begin{align*}\n",
    "max\\quad x+10y\\\\\n",
    "s.t\\\\\n",
    "x+7y\\leq17.5\\\\\n",
    "x\\leq3.5\\\\\n",
    "x,y\\geq0\\\\\n",
    "x,y\\qquad\n",
    "\\end{align*}\n",
    "$$\n",
    "\n",
    "Lo primero que se deberá hacer es cargar las herramientas necesarias. "
   ]
  },
  {
   "cell_type": "code",
   "execution_count": 7,
   "metadata": {},
   "outputs": [],
   "source": [
    "from ortools.linear_solver import pywraplp"
   ]
  },
  {
   "cell_type": "markdown",
   "metadata": {},
   "source": [
    "A continuación se deberá declarar el tipo de *solver* que queremos utilizar. En este caso como el problema va a ser de programación entera pura, se utilizará el denominado SCIP"
   ]
  },
  {
   "cell_type": "code",
   "execution_count": 8,
   "metadata": {},
   "outputs": [],
   "source": [
    "# Cargamos al solver denominado SCIP Create the mip solver with the SCIP backend.\n",
    "solver = pywraplp.Solver.CreateSolver('SCIP')"
   ]
  },
  {
   "cell_type": "markdown",
   "metadata": {},
   "source": [
    "A continuación se procede a definir las variables. Observar que a diferencia de los problemas de programación lineal que se han expuesto en apartados anteriores, aquí se definen las variables con la propiedad *\".IntVar\"* para indicar que son variables que sólo toman valores enteros."
   ]
  },
  {
   "cell_type": "code",
   "execution_count": 9,
   "metadata": {},
   "outputs": [
    {
     "name": "stdout",
     "output_type": "stream",
     "text": [
      "Número total de variables= 2\n"
     ]
    }
   ],
   "source": [
    "infinity = solver.infinity()\n",
    "# x and y are integer non-negative variables.\n",
    "x = solver.IntVar(0.0, infinity, 'x')\n",
    "y = solver.IntVar(0.0, infinity, 'y')\n",
    "\n",
    "print('Número total de variables=', solver.NumVariables())"
   ]
  },
  {
   "cell_type": "markdown",
   "metadata": {},
   "source": [
    "A continuación se definen las restricciones"
   ]
  },
  {
   "cell_type": "code",
   "execution_count": 10,
   "metadata": {},
   "outputs": [
    {
     "name": "stdout",
     "output_type": "stream",
     "text": [
      "Número total de restricciones = 2\n"
     ]
    }
   ],
   "source": [
    "# x + 7 * y <= 17.5.\n",
    "solver.Add(x + 7 * y <= 17.5)\n",
    "\n",
    "# x <= 3.5.\n",
    "solver.Add(x <= 3.5)\n",
    "\n",
    "print('Número total de restricciones =', solver.NumConstraints())"
   ]
  },
  {
   "cell_type": "markdown",
   "metadata": {},
   "source": [
    "Se define la función objetivo"
   ]
  },
  {
   "cell_type": "code",
   "execution_count": 11,
   "metadata": {},
   "outputs": [],
   "source": [
    "# Maximizar x + 10 * y.\n",
    "solver.Maximize(x + 10 * y)"
   ]
  },
  {
   "cell_type": "markdown",
   "metadata": {},
   "source": [
    "Se llama al solver y finalmente se muestra la solución"
   ]
  },
  {
   "cell_type": "code",
   "execution_count": 12,
   "metadata": {},
   "outputs": [
    {
     "name": "stdout",
     "output_type": "stream",
     "text": [
      "Solución:\n",
      "Valor función objetivo = 23.0\n",
      "x = 3.0\n",
      "y = 2.0\n"
     ]
    }
   ],
   "source": [
    "status = solver.Solve()\n",
    "\n",
    "if status == pywraplp.Solver.OPTIMAL:\n",
    "    print('Solución:')\n",
    "    print('Valor función objetivo =', solver.Objective().Value())\n",
    "    print('x =', x.solution_value())\n",
    "    print('y =', y.solution_value())\n",
    "else:\n",
    "    print('El problema no tiene una solución óptima.')"
   ]
  },
  {
   "cell_type": "markdown",
   "metadata": {},
   "source": [
    "## Utilizando Arrays para resolución de problemas.\n",
    "\n",
    "Cuando el número de variables a tener en cuenta en la resolución de problemas de programación lineal es importante, ya se ha comentado en apartados anteriores, que se deberá hacer uso de Arrais que contengan las variables necesarias para la resolución de los mismos. \n",
    "\n",
    "En este apartado vamos a ver un ejemplo de cómo utilizar esto para resolver un problema de programación entera pura. El problema se define de la siguiente manera:\n",
    "\n",
    "$$\n",
    "\\begin{align*}\n",
    "max\\quad7x_{1}+8x_{2}+2x_{3}+9x_{4}+6x_{5}\\\\\n",
    "s.t\\\\\n",
    "5x_{1}+7x_{2}+9x_{3}+2x_{4}+x_{5}\\leq250\\\\\n",
    "18x_{1}+4x_{2}-9x_{3}+10x_{4}+12x_{5}\\leq285\\\\\n",
    "4x_{1}+7x_{2}+3x_{3}+8x_{4}+5x_{5}\\leq211\\\\\n",
    "5x_{1}+13x_{2}+16x_{3}+3x_{4}-7x_{5}\\leq315\\\\\n",
    "x_{1},x_{2},...,x_{5}\\,enteros\\,positivos\\\\\n",
    "\\end{align*}\n",
    "$$\n",
    "\n",
    "Para resolver este problema, primero creamos los valores que vamos a necesitar."
   ]
  },
  {
   "cell_type": "code",
   "execution_count": 14,
   "metadata": {},
   "outputs": [],
   "source": [
    "def create_data_model():\n",
    "  \"\"\"Stores the data for the problem.\"\"\"\n",
    "  data = {}\n",
    "  data['constraint_coeffs'] = [\n",
    "      [5, 7, 9, 2, 1],\n",
    "      [18, 4, -9, 10, 12],\n",
    "      [4, 7, 3, 8, 5],\n",
    "      [5, 13, 16, 3, -7],\n",
    "  ]\n",
    "  data['bounds'] = [250, 285, 211, 315]\n",
    "  data['obj_coeffs'] = [7, 8, 2, 9, 6]\n",
    "  data['num_vars'] = 5\n",
    "  data['num_constraints'] = 4\n",
    "  return data\n",
    "\n",
    "\n",
    "data = create_data_model()"
   ]
  },
  {
   "cell_type": "markdown",
   "metadata": {},
   "source": [
    "Ahora se procede a definir las variables"
   ]
  },
  {
   "cell_type": "code",
   "execution_count": 16,
   "metadata": {},
   "outputs": [
    {
     "name": "stdout",
     "output_type": "stream",
     "text": [
      "Numero total de variables = 12\n"
     ]
    }
   ],
   "source": [
    "infinity = solver.infinity()\n",
    "x = {}\n",
    "for j in range(data['num_vars']):\n",
    "  x[j] = solver.IntVar(0, infinity, 'x[%i]' % j)\n",
    "print('Numero total de variables =', solver.NumVariables())"
   ]
  },
  {
   "cell_type": "markdown",
   "metadata": {},
   "source": [
    "A continuación se definen las restricciones. El  código que crea las restricciones para el anterior ejemplo, utilizando el método *RowConstraint* . Los dos primeros argumentos del método son los límites inferior y superior de la restricción. El tercer argumento, un nombre para la restricción, es opcional.\n",
    "\n",
    "Para cada restricción, se definen los coeficientes de las variables mediante el método *SetCoefficient*. El método asigna el coeficiente de la variable x[j] en la restricción i a la entrada [i][j] del array constraint_coeffs."
   ]
  },
  {
   "cell_type": "code",
   "execution_count": 18,
   "metadata": {},
   "outputs": [
    {
     "name": "stdout",
     "output_type": "stream",
     "text": [
      "Número total de restricciones = 10\n"
     ]
    }
   ],
   "source": [
    "for i in range(data['num_constraints']):\n",
    "  constraint = solver.RowConstraint(0, data['bounds'][i], '')\n",
    "  for j in range(data['num_vars']):\n",
    "    constraint.SetCoefficient(x[j], data['constraint_coeffs'][i][j])\n",
    "print('Número total de restricciones =', solver.NumConstraints())\n",
    "# En Python, también se pueden construir las restricciones de la siguiente manera.\n",
    "# for i in range(data['num_constraints']):\n",
    "#  constraint_expr = \\\n",
    "# [data['constraint_coeffs'][i][j] * x[j] for j in range(data['num_vars'])]\n",
    "#  solver.Add(sum(constraint_expr) <= data['bounds'][i])"
   ]
  },
  {
   "cell_type": "code",
   "execution_count": null,
   "metadata": {},
   "outputs": [],
   "source": [
    "A continuación se define la función objetivo"
   ]
  },
  {
   "cell_type": "code",
   "execution_count": 19,
   "metadata": {},
   "outputs": [],
   "source": [
    "objective = solver.Objective()\n",
    "for j in range(data['num_vars']):\n",
    "  objective.SetCoefficient(x[j], data['obj_coeffs'][j])\n",
    "objective.SetMaximization()\n",
    "# En python también se puede definir de la siguiente manera.\n",
    "# obj_expr = [data['obj_coeffs'][j] * x[j] for j in range(data['num_vars'])]\n",
    "# solver.Maximize(solver.Sum(obj_expr))"
   ]
  },
  {
   "cell_type": "markdown",
   "metadata": {},
   "source": [
    "Y finalmente, se llama al solver y se muestra la solución"
   ]
  },
  {
   "cell_type": "code",
   "execution_count": 21,
   "metadata": {},
   "outputs": [
    {
     "name": "stdout",
     "output_type": "stream",
     "text": [
      "Valor función objetivo = 283.0\n",
      "x[0]  =  8.0\n",
      "x[1]  =  20.0\n",
      "x[2]  =  1.0\n",
      "x[3]  =  2.0\n",
      "x[4]  =  4.0\n",
      "\n",
      "Problema resuelto en 2290846.000000 millisegundos\n",
      "Problema resuelto en 65 iteraciones\n",
      "Problema resuelto en 9 branch-and-bound nodos\n"
     ]
    }
   ],
   "source": [
    "status = solver.Solve()\n",
    "\n",
    "if status == pywraplp.Solver.OPTIMAL:\n",
    "  print('Valor función objetivo =', solver.Objective().Value())\n",
    "  for j in range(data['num_vars']):\n",
    "    print(x[j].name(), ' = ', x[j].solution_value())\n",
    "  print()\n",
    "  print('Problema resuelto en %f millisegundos' % solver.wall_time())\n",
    "  print('Problema resuelto en %d iteraciones' % solver.iterations())\n",
    "  print('Problema resuelto en %d branch-and-bound nodos' % solver.nodes())\n",
    "else:\n",
    "  print('No se ha encontrado solución al problema.')"
   ]
  },
  {
   "cell_type": "markdown",
   "metadata": {},
   "source": [
    " ## Programación entera mixta: costes fijos y condiciones lógicas.\n",
    "Para mejor entender este apartado, procederemos primero a enunciar el siguiente problema.\n",
    "\n",
    "Una pequeña empresa puede producir 4 tipos de artículos y estima que para el próximo periodo podrá vender todo lo que fabrica de los productos 1 y 3, pero como mucho tendrá demanda para 30 unidades del producto 2 y 10 del produco 4. La empresa tiene capacidad para producir un máximo de 110 artículos de cualquier tipo y combinación. A continuación se detalla el coste de producción por unidad producida, el coste fijo de producción y el precio de venta unitario de cada artículo.\n",
    "\n",
    "|Producto|Coste de <br/> producción|Coste fijo|P.V.P|\n",
    "|--|--|--|--|\n",
    "|1|300|60|450|\n",
    "|2|450|20|650|\n",
    "|3|500|70|600|\n",
    "|4|200|60|450|\n",
    "\n",
    "Se pide formular el modelo matemático para determinar las unidades que se deben producir de cada artículo para maximizar los beneficios de la empresa.\n",
    "\n",
    "Para resolver este problema,si se va a utilizar únicamente la variable $x_i$ = unidades del producto i que debe fabricar el próximo periodo, la función de beneficios no se podrá formular correctamente. Téngase en cuenta que los costes fijos no dependen de la cantidad producida, como en el caso de los costes de producción, sino de la decisión de producir o no producir. Necesitamos por lo tanto variables que hagan referencia a esta decisión:\n",
    "\n",
    "$$\n",
    "y_{i}=\\begin{cases}\n",
    "1 & si\\,se\\,fabrica\\,el\\,art\\acute{\\imath}culo\\,i\\\\\n",
    "0 & si\\,no\\,se\\,fabrica\\,el\\,art\\acute{\\imath}culo\\,i\n",
    "\\end{cases}\n",
    "$$\n",
    "\n",
    "Podríamos inicialmente formular el problema de la siguiente manera:\n",
    "\n",
    "$$\n",
    "\\begin{align*}\n",
    "max\\;150x_{1}+200x_{2}+100x_{3}+250x_{4}-60y_{1}-20y_{2}-70y_{3}-60y_{4}\\\\\n",
    "s.t.\\\\\n",
    "x_{2}\\leq30\\\\\n",
    "x_{4}\\leq10\\\\\n",
    "x_{i}\\geq0\\\\\n",
    "x_{i}\\epsilon\\{0,1\\}\n",
    "\\end{align*}\n",
    "$$\n",
    "\n",
    "Pero si lo planteamos así, es evidente que la solución óptima es la que tiene los siguientes valores:\n",
    "$$x_1=70,\\,x_2=30,\\,x_3=0,\\,x_4=10 $$\n",
    "\n",
    "$$y_1=y_2=y_3=y_4=0$$\n",
    "\n",
    "y claramente no respeta la relación entre variables de  producción y variables de decisión ya que estamos produciendo sin incurrir en ningún coste fijo. Esto es debido a que no se ha incluido ninguna relación matemática entre estas variables, esto es, no aparece reflejada la condición \"si $x_i>0$ entonces ha de ser $y_i=1\".\n",
    "\n",
    "Para conseguir eso, definimos una constante M arbitrariamente grande, y se consideran las restricciones\n",
    "\n",
    "$$\n",
    "x_{i}\\leq My_{i}\\quad i=1,2,3,4\n",
    "$$\n",
    "\n",
    "Si estas desigualdades son añadidas el modelo aseguramos que $y_i=1$ siempre que $x_i>0$. Téngase en cuenta que en caso contrario, obligatoriamente sería $x_i=0$. De esta manera, si hay producción del artículo i obligatoriamente se incurre en el coste fijo asociado. No obstante, estas desigualdades pueden ser modificadas: si $y_i=1$, la restricción $x_i\\leq My_i$ se traduce en que $x_i\\leq M$, siendo M una constante suficientemente grande. Teniendo esto presente, el problema se puede formular de la siguiente manera:\n",
    "\n",
    "$$\n",
    "\\begin{align*}\n",
    "max\\;150x_{1}+200x_{2}+100x_{3}+250x_{4}-60y_{1}-20y_{2}-70y_{3}-60y_{4}\\\\\n",
    "s.t.\\\\\n",
    "x_1 \\leq 110y_1\\\\\n",
    "x_{2}\\leq30y_2\\\\\n",
    "x_1 \\leq 110y_3\\\\\n",
    "x_{4}\\leq10y_4\\\\\n",
    "x_{i}\\geq0\\\\\n",
    "x_{i}\\epsilon\\{0,1\\}\n",
    "\\end{align*}\n",
    "$$\n",
    "\n",
    "Supongamos que además el fabricante impone las siguiente condiciones:\n",
    "\n",
    "1.- Si se produce el artículo 1 también se debe producir el artículo 2.\n",
    "\n",
    "2.- Si se produce del artículo 4 no debe producirse nada del artículo 3\n",
    "\n",
    "3.- Se debe producir obligatoriamente de los artículos 2,3,4.\n",
    "\n",
    "4.- Si se producen más de 30 unidades del artículo 1, se deben producir al menos 10 unidades del artículo 2.\n",
    "\n",
    "5.- Si se producen más de 30 unidades del artículo 1, se deben producir como mucho 10 unidades del artículo 2.\n",
    "\n",
    "A continuación se expone cómo incorporar al modelo estas condiciones:\n",
    "\n",
    "1.- Debemos expresar que \"$x_{1}>0\\Rightarrow x_{2}>0$\". La restricción $x_2>0$, con desigualdad estricta, no se puede usar directamente en optimización, y hay que trasnformarla en restricciones de la forma $x_2\\geq m$. Entonces se añadirían las restricciones: $x_1\\leq My_1$, $x_2\\geq my_1$. De esta manera, se cumple que si $x_1>0 \\Rightarrow y_1=1 \\Rightarrow x_2\\geq m$.\n",
    "\n",
    "2.- Debemos expresar que si $x_4>0$ entonces $x_3=0$, o lo que es lo mismo, si $y_4=1$ entonces $y_3=0$. No puede darse el caso de que estas últimas variables tomen el valor de 1 cada una de ellas, por lo tanto para reflejar esta restricción se debería añadir la condición $y_3+y_4 \\leq 1$.\n",
    "\n",
    "3.- El producir obligatoriamente esos artículos, es equivalente a añadir la restricción\n",
    "$$y_2+y_3+y_4=3$$\n",
    "o las igualdades:\n",
    "$$y_2=y_3=y_4=1$$\n",
    "\n",
    "4.- Debemos reflejar la relación si $x_1>30 \\Rightarrow x_2\\geq 10$. En este caso necesitamos una variable más que haga referencia al hecho de producir más de 30 unidades del artículo 1, puesto que la variable $y_1$ sólo indica si hay o no producción del artículo 1. Sea entonces,\n",
    "\n",
    "$$\n",
    "z=\\begin{cases}\n",
    "1 & si\\,x_{1}>30\\\\\n",
    "0 & si\\,x_{1}\\leq30\n",
    "\\end{cases}\n",
    "$$\n",
    "\n",
    "Esta relación con la variable $x_1$ quedará clara añadendo la restricción $x_1-30\\leq Mz$, siendo M una constante suficientemente grande. Obsérvese que si $x_1>30$ no puede ser z=0 ya que en este caso, la restricción $x_1-30 \\leq Mz$ es equivalente a $x_1-30 \\leq 0$. Ahora bastará añadir $x_2\\geq 10z$ con $z\\epsilon\\{0,1\\}$, y automáticamente, si z=1 ha de ser $x_2 \\geq 10$.\n",
    "\n",
    "5.- El planteamiento es muy similar al caso anterior. En este caso la condición es equivalente a si $x_1>30 \\Rightarrow x_2\\leq 10$. Y como en el caso anterior se toma\n",
    "\n",
    "$$\n",
    "z=\\begin{cases}\n",
    "1 & si\\,x_{1}>30\\\\\n",
    "0 & si\\,x_{1}\\leq30\n",
    "\\end{cases}\n",
    "$$\n",
    "\n",
    "y $x_1-30 \\leq Mz$ con M constante suficientemente grande. Y en esta ocasión, se añadirá la restricción $x_2-10 \\leq M(1-z)$ con $z\\epsilon\\{0,1\\}$.  \n",
    "\n",
    "\n",
    "Veamos de forma general, cómo implementamos estas restricciones en los problemas de de programación mixta. De forma general, la condición si $f(x_1,x_2,...,x_n)>0 \\Rightarrow g(x_1,x_2,...,x_n)\\geq k$, se formulará del siguiente modo.\n",
    "\n",
    "Se define una variable lógica de la siguiente manera:\n",
    "\n",
    "$$\n",
    "z=\\begin{cases}\n",
    "1 & si\\,f(x_1,...,x_n)>0\\\\\n",
    "0 & si\\,f(x_1,...,x_n)\\leq0\n",
    "\\end{cases}\n",
    "$$\n",
    "\n",
    "e incorporamos al modelo las siguientes condiciones:\n",
    "\n",
    "$$f(x_1,x_2,...,x_n)\\leq Mz$$\n",
    "$$g(x_1,x_2,...,x_n)\\geq kz$$\n",
    "$$z\\epsilon\\{0,1\\} $$\n",
    "\n",
    "Recíprocamente, si la condición es $f(x_1,x_2,...,x_n)>0 \\Rightarrow g(x_1,x_2,...,x_n)\\leq k$, entonces las restricciones que se deben incorporar al modelo son las siguientes:\n",
    "\n",
    "$$f(x_1,x_2,...,x_n)\\leq Mz$$\n",
    "$$g(x_1,x_2,...,x_n)-k\\leq M(1-z)$$\n",
    "$$z\\epsilon\\{0,1\\} $$\n",
    "\n",
    "con z como se ha definido anteriormente."
   ]
  },
  {
   "cell_type": "markdown",
   "metadata": {},
   "source": [
    "## Costes fijos en producción y redes.\n",
    "\n",
    "Veamos lo comentado en el anterior apartado, pero expresado con carácter general. Consideremos un problema de producción en el que además de los datos habituales (costes de producción, de inventario, capacidad de producción, etc.), tenemos en cuenta los costes fijos de producción. A las variables continuas que representan el nivel de producción e inventario, necesitamos incorporar las variables de tipo 0-1 que hacen referencia a la decisión de producir. Tomaremos las siguientes variables.\n",
    "$x_i$ = unidades que se deben producir del artículo i.\n",
    "\n",
    "$$\n",
    "y_{i}=\\begin{cases}\n",
    "1 & si\\,se\\,fabrica\\,el\\,art\\acute{\\imath}culo\\,i\\\\\n",
    "0 & si\\,no\\,se\\,fabrica\\,el\\,art\\acute{\\imath}culo\\,i\n",
    "\\end{cases}\n",
    "$$\n",
    "\n",
    "tendremos que incorporar al modelo matemático las siguientes restricciones:\n",
    "\n",
    "$$\n",
    "\\begin{align*}\n",
    "x_{i}  \\leq MY_{i}\\,\\forall i\\\\\n",
    "Y_{i}\\epsilon\\{0,1\\}\\,\\forall i\n",
    "\\end{align*}\n",
    "$$\n",
    "\n",
    "siendo M una constante suficientemente grande. Si la capacidad de producción del artículo i está limitada por la cantidad $C_i$, la constante M puede ser sustituida por esta cota, en caso contrario, bastará tomar M igual a la demanda toal a cubrir en el horizonte de planificación.\n",
    "\n",
    "La función objetivo se verá también modificada. Además de los costes de producción e inventario hay que considerar los costes fijos de producción, Si $f_i$ es el coste fijo en el que se incurre si hay producción del artículo i, el coste fijo total que habrá que considerar en la función objetivo es $\\sum_{i}f_{i}Y_{i}$.\n",
    "\n",
    "En los problemas de redes en los que intervienen costes fijos asociados a los arcos **debemos considerar restricciones similares**. Consideremos un problema de flujo en redes con el mínimo coste en el que $f_i$ es el coste fijo en el que incurre si por el arco (i,j) pasa una cantidad estrictamente positiva de flujo. Tomenos\n",
    "\n",
    "$x_{ij}$ = cantidad de flujo sobre el arco (i,j).\n",
    "\n",
    "$$\n",
    "y_{ij}=\\begin{cases}\n",
    "1 & si\\,x_{ij}>0\\\\\n",
    "0 & en\\,caso\\,contrario\\\\\n",
    "\\end{cases}\n",
    "$$\n",
    "\n",
    "tendremos que incorporar al modelo matemático las siguientes restricciones:\n",
    "\n",
    "$$\n",
    "\\begin{align*}\n",
    "x_{ij}  \\leq MY_{ij}\\,\\forall (i,j)\\\\\n",
    "Y_{ij}\\epsilon\\{0,1\\}\\,\\forall (i,j)\n",
    "\\end{align*}\n",
    "$$\n",
    "\n",
    "Siendo M una constante suficientemente grande. Si la cantidad de flujo que puede circular por la red está limitada a una cantida $C_{ij}$, la constante M puede ser sustituida por esta cota, en caso contrario, bastará tomar M igual a la oferta total. En la función objetivo debemos considerar, además de los costes de transporte de flujo sobre la red, los costes fijos asociados, es decir, $\\sum_{(i,j)}f_{ij}Y_{ij}$."
   ]
  },
  {
   "cell_type": "code",
   "execution_count": null,
   "metadata": {},
   "outputs": [],
   "source": []
  },
  {
   "cell_type": "code",
   "execution_count": null,
   "metadata": {},
   "outputs": [],
   "source": []
  },
  {
   "cell_type": "code",
   "execution_count": null,
   "metadata": {},
   "outputs": [],
   "source": []
  }
 ],
 "metadata": {
  "kernelspec": {
   "display_name": "Python 3",
   "language": "python",
   "name": "python3"
  },
  "language_info": {
   "codemirror_mode": {
    "name": "ipython",
    "version": 3
   },
   "file_extension": ".py",
   "mimetype": "text/x-python",
   "name": "python",
   "nbconvert_exporter": "python",
   "pygments_lexer": "ipython3",
   "version": "3.7.6"
  },
  "toc": {
   "base_numbering": 1,
   "nav_menu": {},
   "number_sections": true,
   "sideBar": true,
   "skip_h1_title": false,
   "title_cell": "Table of Contents",
   "title_sidebar": "Contents",
   "toc_cell": false,
   "toc_position": {},
   "toc_section_display": true,
   "toc_window_display": false
  },
  "varInspector": {
   "cols": {
    "lenName": 16,
    "lenType": 16,
    "lenVar": 40
   },
   "kernels_config": {
    "python": {
     "delete_cmd_postfix": "",
     "delete_cmd_prefix": "del ",
     "library": "var_list.py",
     "varRefreshCmd": "print(var_dic_list())"
    },
    "r": {
     "delete_cmd_postfix": ") ",
     "delete_cmd_prefix": "rm(",
     "library": "var_list.r",
     "varRefreshCmd": "cat(var_dic_list()) "
    }
   },
   "types_to_exclude": [
    "module",
    "function",
    "builtin_function_or_method",
    "instance",
    "_Feature"
   ],
   "window_display": false
  }
 },
 "nbformat": 4,
 "nbformat_minor": 4
}
